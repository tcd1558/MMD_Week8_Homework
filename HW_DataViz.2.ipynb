{
 "cells": [
  {
   "cell_type": "markdown",
   "metadata": {},
   "source": [
    "You will have to import five different datasets. Each one is an exchange traded fund (etf) offered by Vanguard that hold a collection of securities (stocks). You could technically buy one of these and own all the businesses that are part of that etf. Pretty cool.\n",
    "\n",
    "The composition of each etf is market capitalization weighted. That means that the bigger the company is in terms of market value (think Apple with its trillion dollar market cap), the more of your dollars that you invest in that etf goes to this one stock. That is shown below."
   ]
  },
  {
   "cell_type": "markdown",
   "metadata": {},
   "source": [
    "![Large companies dominate...](large-companies-dominate-total-stock-market-index.png)"
   ]
  },
  {
   "cell_type": "markdown",
   "metadata": {},
   "source": [
    "But you don't want that. What you want is this..."
   ]
  },
  {
   "cell_type": "markdown",
   "metadata": {},
   "source": [
    "![A more proportional portfolio...](spreading-your-dollars-across-all-size-companies.png)"
   ]
  },
  {
   "cell_type": "markdown",
   "metadata": {},
   "source": [
    "Let's explore one of those etfs."
   ]
  },
  {
   "cell_type": "code",
   "execution_count": 33,
   "metadata": {
    "scrolled": true
   },
   "outputs": [
    {
     "data": {
      "text/html": [
       "<div>\n",
       "<style scoped>\n",
       "    .dataframe tbody tr th:only-of-type {\n",
       "        vertical-align: middle;\n",
       "    }\n",
       "\n",
       "    .dataframe tbody tr th {\n",
       "        vertical-align: top;\n",
       "    }\n",
       "\n",
       "    .dataframe thead th {\n",
       "        text-align: right;\n",
       "    }\n",
       "</style>\n",
       "<table border=\"1\" class=\"dataframe\">\n",
       "  <thead>\n",
       "    <tr style=\"text-align: right;\">\n",
       "      <th></th>\n",
       "      <th>holding</th>\n",
       "      <th>marketValue</th>\n",
       "    </tr>\n",
       "  </thead>\n",
       "  <tbody>\n",
       "    <tr>\n",
       "      <th>0</th>\n",
       "      <td>Microsoft Corp.</td>\n",
       "      <td>3.388885e+10</td>\n",
       "    </tr>\n",
       "    <tr>\n",
       "      <th>1</th>\n",
       "      <td>Apple Inc.</td>\n",
       "      <td>3.307893e+10</td>\n",
       "    </tr>\n",
       "    <tr>\n",
       "      <th>2</th>\n",
       "      <td>Amazon.com Inc.</td>\n",
       "      <td>2.193640e+10</td>\n",
       "    </tr>\n",
       "    <tr>\n",
       "      <th>3</th>\n",
       "      <td>Facebook Inc.</td>\n",
       "      <td>1.391406e+10</td>\n",
       "    </tr>\n",
       "    <tr>\n",
       "      <th>4</th>\n",
       "      <td>Berkshire Hathaway Inc.</td>\n",
       "      <td>1.208788e+10</td>\n",
       "    </tr>\n",
       "    <tr>\n",
       "      <th>5</th>\n",
       "      <td>JPMorgan Chase &amp; Co.</td>\n",
       "      <td>1.157386e+10</td>\n",
       "    </tr>\n",
       "    <tr>\n",
       "      <th>6</th>\n",
       "      <td>Alphabet Inc.</td>\n",
       "      <td>1.129601e+10</td>\n",
       "    </tr>\n",
       "    <tr>\n",
       "      <th>7</th>\n",
       "      <td>Alphabet Inc. Class C</td>\n",
       "      <td>1.100778e+10</td>\n",
       "    </tr>\n",
       "    <tr>\n",
       "      <th>8</th>\n",
       "      <td>Johnson &amp; Johnson</td>\n",
       "      <td>1.081596e+10</td>\n",
       "    </tr>\n",
       "    <tr>\n",
       "      <th>9</th>\n",
       "      <td>Visa Inc.</td>\n",
       "      <td>9.063540e+09</td>\n",
       "    </tr>\n",
       "  </tbody>\n",
       "</table>\n",
       "</div>"
      ],
      "text/plain": [
       "                   holding   marketValue\n",
       "0          Microsoft Corp.  3.388885e+10\n",
       "1               Apple Inc.  3.307893e+10\n",
       "2          Amazon.com Inc.  2.193640e+10\n",
       "3            Facebook Inc.  1.391406e+10\n",
       "4  Berkshire Hathaway Inc.  1.208788e+10\n",
       "5     JPMorgan Chase & Co.  1.157386e+10\n",
       "6            Alphabet Inc.  1.129601e+10\n",
       "7    Alphabet Inc. Class C  1.100778e+10\n",
       "8        Johnson & Johnson  1.081596e+10\n",
       "9                Visa Inc.  9.063540e+09"
      ]
     },
     "execution_count": 33,
     "metadata": {},
     "output_type": "execute_result"
    }
   ],
   "source": [
    "import pandas as pd\n",
    "vti=pd.read_csv('vti_12_31_2019.csv')\n",
    "vti.drop(['Unnamed: 0', 'date'], axis = 1, inplace = True)\n",
    "vti.head(10)"
   ]
  },
  {
   "cell_type": "code",
   "execution_count": 34,
   "metadata": {},
   "outputs": [
    {
     "name": "stdout",
     "output_type": "stream",
     "text": [
      "<class 'pandas.core.frame.DataFrame'>\n",
      "RangeIndex: 3550 entries, 0 to 3549\n",
      "Data columns (total 2 columns):\n",
      " #   Column       Non-Null Count  Dtype  \n",
      "---  ------       --------------  -----  \n",
      " 0   holding      3550 non-null   object \n",
      " 1   marketValue  3550 non-null   float64\n",
      "dtypes: float64(1), object(1)\n",
      "memory usage: 55.6+ KB\n"
     ]
    }
   ],
   "source": [
    "vti.info()"
   ]
  },
  {
   "cell_type": "markdown",
   "metadata": {},
   "source": [
    "So these are the top ten holdings within this etf. The marketValue column for each holding tells us the amount of money that goes towards that holding if we were to make an investment in this etf. To find % ownership for each holding, you can divide the marketValue for that holding with the total sum of marketValues for all holdings in that etf."
   ]
  },
  {
   "cell_type": "markdown",
   "metadata": {},
   "source": [
    "A brief discreption on the etfs..."
   ]
  },
  {
   "cell_type": "markdown",
   "metadata": {},
   "source": [
    "[VTI](https://investor.vanguard.com/etf/profile/VTI) - Total stock market etf. It technically owns all the publicly traded companies in these United States.\n",
    "\n",
    "[VO](https://investor.vanguard.com/etf/profile/vo) - Mid-size company etf. It owns companies that are not too larger or small.\n",
    "\n",
    "[VB](https://investor.vanguard.com/etf/profile/vb) - Small-size company etf. It owns companies that are small in market value.\n",
    "\n",
    "[VOO](https://investor.vanguard.com/etf/profile/voo) - These are all the companies that are part of the S&P 500 index. This is basically a large cap index and almost all companies within this are also found in VTI.\n",
    "\n",
    "[VXF](https://investor.vanguard.com/etf/profile/vxf) - These are all the companies that are part of VTI but excluding those that are found in the S&P 500 index. Which means VXF + VOO = VTI."
   ]
  },
  {
   "cell_type": "code",
   "execution_count": 35,
   "metadata": {
    "scrolled": true
   },
   "outputs": [
    {
     "data": {
      "text/html": [
       "<div>\n",
       "<style scoped>\n",
       "    .dataframe tbody tr th:only-of-type {\n",
       "        vertical-align: middle;\n",
       "    }\n",
       "\n",
       "    .dataframe tbody tr th {\n",
       "        vertical-align: top;\n",
       "    }\n",
       "\n",
       "    .dataframe thead th {\n",
       "        text-align: right;\n",
       "    }\n",
       "</style>\n",
       "<table border=\"1\" class=\"dataframe\">\n",
       "  <thead>\n",
       "    <tr style=\"text-align: right;\">\n",
       "      <th></th>\n",
       "      <th>holding</th>\n",
       "      <th>marketValue</th>\n",
       "    </tr>\n",
       "  </thead>\n",
       "  <tbody>\n",
       "    <tr>\n",
       "      <th>0</th>\n",
       "      <td>Newmont Goldcorp Corp.</td>\n",
       "      <td>896765462.0</td>\n",
       "    </tr>\n",
       "    <tr>\n",
       "      <th>1</th>\n",
       "      <td>Amphenol Corp. Class A</td>\n",
       "      <td>807963791.0</td>\n",
       "    </tr>\n",
       "    <tr>\n",
       "      <th>2</th>\n",
       "      <td>ONEOK Inc.</td>\n",
       "      <td>787016807.0</td>\n",
       "    </tr>\n",
       "    <tr>\n",
       "      <th>3</th>\n",
       "      <td>WEC Energy Group Inc.</td>\n",
       "      <td>732058286.0</td>\n",
       "    </tr>\n",
       "    <tr>\n",
       "      <th>4</th>\n",
       "      <td>IHS Markit Ltd.</td>\n",
       "      <td>722329137.0</td>\n",
       "    </tr>\n",
       "  </tbody>\n",
       "</table>\n",
       "</div>"
      ],
      "text/plain": [
       "                  holding  marketValue\n",
       "0  Newmont Goldcorp Corp.  896765462.0\n",
       "1  Amphenol Corp. Class A  807963791.0\n",
       "2              ONEOK Inc.  787016807.0\n",
       "3   WEC Energy Group Inc.  732058286.0\n",
       "4         IHS Markit Ltd.  722329137.0"
      ]
     },
     "execution_count": 35,
     "metadata": {},
     "output_type": "execute_result"
    }
   ],
   "source": [
    "vo=pd.read_csv('vo_12_31_2019.csv')\n",
    "vo.drop(['Unnamed: 0', 'date'], axis = 1, inplace = True)\n",
    "df2=vo[0:10]\n",
    "vo.head()"
   ]
  },
  {
   "cell_type": "code",
   "execution_count": 36,
   "metadata": {},
   "outputs": [
    {
     "name": "stdout",
     "output_type": "stream",
     "text": [
      "<class 'pandas.core.frame.DataFrame'>\n",
      "RangeIndex: 339 entries, 0 to 338\n",
      "Data columns (total 2 columns):\n",
      " #   Column       Non-Null Count  Dtype  \n",
      "---  ------       --------------  -----  \n",
      " 0   holding      339 non-null    object \n",
      " 1   marketValue  339 non-null    float64\n",
      "dtypes: float64(1), object(1)\n",
      "memory usage: 5.4+ KB\n"
     ]
    }
   ],
   "source": [
    "vo.info()"
   ]
  },
  {
   "cell_type": "code",
   "execution_count": 37,
   "metadata": {},
   "outputs": [
    {
     "data": {
      "text/html": [
       "<div>\n",
       "<style scoped>\n",
       "    .dataframe tbody tr th:only-of-type {\n",
       "        vertical-align: middle;\n",
       "    }\n",
       "\n",
       "    .dataframe tbody tr th {\n",
       "        vertical-align: top;\n",
       "    }\n",
       "\n",
       "    .dataframe thead th {\n",
       "        text-align: right;\n",
       "    }\n",
       "</style>\n",
       "<table border=\"1\" class=\"dataframe\">\n",
       "  <thead>\n",
       "    <tr style=\"text-align: right;\">\n",
       "      <th></th>\n",
       "      <th>holding</th>\n",
       "      <th>marketValue</th>\n",
       "    </tr>\n",
       "  </thead>\n",
       "  <tbody>\n",
       "    <tr>\n",
       "      <th>0</th>\n",
       "      <td>Leidos Holdings Inc.</td>\n",
       "      <td>347521932.0</td>\n",
       "    </tr>\n",
       "    <tr>\n",
       "      <th>1</th>\n",
       "      <td>Zebra Technologies Corp.</td>\n",
       "      <td>344245760.0</td>\n",
       "    </tr>\n",
       "    <tr>\n",
       "      <th>2</th>\n",
       "      <td>Atmos Energy Corp.</td>\n",
       "      <td>334201885.0</td>\n",
       "    </tr>\n",
       "    <tr>\n",
       "      <th>3</th>\n",
       "      <td>IDEX Corp.</td>\n",
       "      <td>327868292.0</td>\n",
       "    </tr>\n",
       "    <tr>\n",
       "      <th>4</th>\n",
       "      <td>STERIS plc</td>\n",
       "      <td>322979504.0</td>\n",
       "    </tr>\n",
       "  </tbody>\n",
       "</table>\n",
       "</div>"
      ],
      "text/plain": [
       "                    holding  marketValue\n",
       "0      Leidos Holdings Inc.  347521932.0\n",
       "1  Zebra Technologies Corp.  344245760.0\n",
       "2        Atmos Energy Corp.  334201885.0\n",
       "3                IDEX Corp.  327868292.0\n",
       "4                STERIS plc  322979504.0"
      ]
     },
     "execution_count": 37,
     "metadata": {},
     "output_type": "execute_result"
    }
   ],
   "source": [
    "vb=pd.read_csv('vb_12_31_2019.csv')\n",
    "vb.drop(['Unnamed: 0', 'date'], axis = 1, inplace = True)\n",
    "vb.head()"
   ]
  },
  {
   "cell_type": "code",
   "execution_count": 38,
   "metadata": {},
   "outputs": [
    {
     "data": {
      "text/html": [
       "<div>\n",
       "<style scoped>\n",
       "    .dataframe tbody tr th:only-of-type {\n",
       "        vertical-align: middle;\n",
       "    }\n",
       "\n",
       "    .dataframe tbody tr th {\n",
       "        vertical-align: top;\n",
       "    }\n",
       "\n",
       "    .dataframe thead th {\n",
       "        text-align: right;\n",
       "    }\n",
       "</style>\n",
       "<table border=\"1\" class=\"dataframe\">\n",
       "  <thead>\n",
       "    <tr style=\"text-align: right;\">\n",
       "      <th></th>\n",
       "      <th>holding</th>\n",
       "      <th>marketValue</th>\n",
       "    </tr>\n",
       "  </thead>\n",
       "  <tbody>\n",
       "    <tr>\n",
       "      <th>0</th>\n",
       "      <td>Apple Inc.</td>\n",
       "      <td>2.450349e+10</td>\n",
       "    </tr>\n",
       "    <tr>\n",
       "      <th>1</th>\n",
       "      <td>Microsoft Corp.</td>\n",
       "      <td>2.403557e+10</td>\n",
       "    </tr>\n",
       "    <tr>\n",
       "      <th>2</th>\n",
       "      <td>Amazon.com Inc.</td>\n",
       "      <td>1.537491e+10</td>\n",
       "    </tr>\n",
       "    <tr>\n",
       "      <th>3</th>\n",
       "      <td>Facebook Inc. Class A</td>\n",
       "      <td>9.868079e+09</td>\n",
       "    </tr>\n",
       "    <tr>\n",
       "      <th>4</th>\n",
       "      <td>JPMorgan Chase &amp; Co.</td>\n",
       "      <td>8.651537e+09</td>\n",
       "    </tr>\n",
       "  </tbody>\n",
       "</table>\n",
       "</div>"
      ],
      "text/plain": [
       "                 holding   marketValue\n",
       "0             Apple Inc.  2.450349e+10\n",
       "1        Microsoft Corp.  2.403557e+10\n",
       "2        Amazon.com Inc.  1.537491e+10\n",
       "3  Facebook Inc. Class A  9.868079e+09\n",
       "4   JPMorgan Chase & Co.  8.651537e+09"
      ]
     },
     "execution_count": 38,
     "metadata": {},
     "output_type": "execute_result"
    }
   ],
   "source": [
    "voo=pd.read_csv('voo_12_31_2019.csv')\n",
    "voo.drop(['Unnamed: 0', 'date'], axis = 1, inplace = True)\n",
    "voo.head()"
   ]
  },
  {
   "cell_type": "code",
   "execution_count": 39,
   "metadata": {},
   "outputs": [
    {
     "data": {
      "text/html": [
       "<div>\n",
       "<style scoped>\n",
       "    .dataframe tbody tr th:only-of-type {\n",
       "        vertical-align: middle;\n",
       "    }\n",
       "\n",
       "    .dataframe tbody tr th {\n",
       "        vertical-align: top;\n",
       "    }\n",
       "\n",
       "    .dataframe thead th {\n",
       "        text-align: right;\n",
       "    }\n",
       "</style>\n",
       "<table border=\"1\" class=\"dataframe\">\n",
       "  <thead>\n",
       "    <tr style=\"text-align: right;\">\n",
       "      <th></th>\n",
       "      <th>holding</th>\n",
       "      <th>marketValue</th>\n",
       "    </tr>\n",
       "  </thead>\n",
       "  <tbody>\n",
       "    <tr>\n",
       "      <th>0</th>\n",
       "      <td>Tesla Inc.</td>\n",
       "      <td>844923272.0</td>\n",
       "    </tr>\n",
       "    <tr>\n",
       "      <th>1</th>\n",
       "      <td>Blackstone Group LP</td>\n",
       "      <td>524426088.0</td>\n",
       "    </tr>\n",
       "    <tr>\n",
       "      <th>2</th>\n",
       "      <td>Lululemon Athletica Inc.</td>\n",
       "      <td>393325388.0</td>\n",
       "    </tr>\n",
       "    <tr>\n",
       "      <th>3</th>\n",
       "      <td>Workday Inc. Class A</td>\n",
       "      <td>359631265.0</td>\n",
       "    </tr>\n",
       "    <tr>\n",
       "      <th>4</th>\n",
       "      <td>Palo Alto Networks Inc.</td>\n",
       "      <td>321314013.0</td>\n",
       "    </tr>\n",
       "  </tbody>\n",
       "</table>\n",
       "</div>"
      ],
      "text/plain": [
       "                    holding  marketValue\n",
       "0                Tesla Inc.  844923272.0\n",
       "1       Blackstone Group LP  524426088.0\n",
       "2  Lululemon Athletica Inc.  393325388.0\n",
       "3      Workday Inc. Class A  359631265.0\n",
       "4   Palo Alto Networks Inc.  321314013.0"
      ]
     },
     "execution_count": 39,
     "metadata": {},
     "output_type": "execute_result"
    }
   ],
   "source": [
    "vxf=pd.read_csv('vxf_12_31_2019.csv')\n",
    "vxf.drop(['Unnamed: 0', 'date'], axis = 1, inplace = True)\n",
    "vxf.head()"
   ]
  },
  {
   "cell_type": "markdown",
   "metadata": {},
   "source": [
    "### Question 1"
   ]
  },
  {
   "cell_type": "markdown",
   "metadata": {},
   "source": [
    "Say you had a 100 dollars to invest and you were to split that equally between these 5 etfs. How will your money be divvied up between the companies within that combined portfolio (hint: use merge in combining datasets). \n",
    "\n",
    "- What portion of your money will go to the top 50 companies?\n",
    "- What portion to the next 450 companies?\n",
    "- And what to the remaining set of companies?\n",
    "\n",
    "Visualizations come in handy but are not necessary. Be as creative as possible. There might be overlap in holdings between etfs and you might have to use regular expressions to clean some things out to match holdings."
   ]
  },
  {
   "cell_type": "markdown",
   "metadata": {},
   "source": [
    "Approach:\n",
    "Merge all data set based on holding. \n",
    "\n",
    "Clean:\n",
    "Remove the columns 'Unnamed:0' and 'date'\n",
    "\n",
    "Check:\n",
    "Merge 2 data sets with e.g. Apple and see whether the marketValue is merged or a new column? \n",
    "Result: There is only one marketValue. \n",
    "Resolution: rename vti['marketValie'] to 'vti_marketValue'. When merging the data frames, rename the marketValue to eft_marketValue\n",
    "\n",
    "Assumption: \n",
    "The company names used the same spelling in all data sets"
   ]
  },
  {
   "cell_type": "code",
   "execution_count": 40,
   "metadata": {},
   "outputs": [
    {
     "data": {
      "text/html": [
       "<div>\n",
       "<style scoped>\n",
       "    .dataframe tbody tr th:only-of-type {\n",
       "        vertical-align: middle;\n",
       "    }\n",
       "\n",
       "    .dataframe tbody tr th {\n",
       "        vertical-align: top;\n",
       "    }\n",
       "\n",
       "    .dataframe thead th {\n",
       "        text-align: right;\n",
       "    }\n",
       "</style>\n",
       "<table border=\"1\" class=\"dataframe\">\n",
       "  <thead>\n",
       "    <tr style=\"text-align: right;\">\n",
       "      <th></th>\n",
       "      <th>holding</th>\n",
       "      <th>vti_marketValue</th>\n",
       "    </tr>\n",
       "  </thead>\n",
       "  <tbody>\n",
       "    <tr>\n",
       "      <th>0</th>\n",
       "      <td>Microsoft Corp.</td>\n",
       "      <td>3.388885e+10</td>\n",
       "    </tr>\n",
       "    <tr>\n",
       "      <th>1</th>\n",
       "      <td>Apple Inc.</td>\n",
       "      <td>3.307893e+10</td>\n",
       "    </tr>\n",
       "    <tr>\n",
       "      <th>2</th>\n",
       "      <td>Amazon.com Inc.</td>\n",
       "      <td>2.193640e+10</td>\n",
       "    </tr>\n",
       "    <tr>\n",
       "      <th>3</th>\n",
       "      <td>Facebook Inc.</td>\n",
       "      <td>1.391406e+10</td>\n",
       "    </tr>\n",
       "    <tr>\n",
       "      <th>4</th>\n",
       "      <td>Berkshire Hathaway Inc.</td>\n",
       "      <td>1.208788e+10</td>\n",
       "    </tr>\n",
       "    <tr>\n",
       "      <th>...</th>\n",
       "      <td>...</td>\n",
       "      <td>...</td>\n",
       "    </tr>\n",
       "    <tr>\n",
       "      <th>3545</th>\n",
       "      <td>Jones Energy Inc. Class A</td>\n",
       "      <td>8.000000e+00</td>\n",
       "    </tr>\n",
       "    <tr>\n",
       "      <th>3546</th>\n",
       "      <td>THESTREET Inc. CVR1</td>\n",
       "      <td>2.000000e+00</td>\n",
       "    </tr>\n",
       "    <tr>\n",
       "      <th>3547</th>\n",
       "      <td>Harvest Natural Resources Inc.</td>\n",
       "      <td>1.000000e+00</td>\n",
       "    </tr>\n",
       "    <tr>\n",
       "      <th>3548</th>\n",
       "      <td>Universal Travel Group</td>\n",
       "      <td>0.000000e+00</td>\n",
       "    </tr>\n",
       "    <tr>\n",
       "      <th>3549</th>\n",
       "      <td>Rex Energy Corp.</td>\n",
       "      <td>0.000000e+00</td>\n",
       "    </tr>\n",
       "  </tbody>\n",
       "</table>\n",
       "<p>3550 rows × 2 columns</p>\n",
       "</div>"
      ],
      "text/plain": [
       "                             holding  vti_marketValue\n",
       "0                    Microsoft Corp.     3.388885e+10\n",
       "1                         Apple Inc.     3.307893e+10\n",
       "2                    Amazon.com Inc.     2.193640e+10\n",
       "3                      Facebook Inc.     1.391406e+10\n",
       "4            Berkshire Hathaway Inc.     1.208788e+10\n",
       "...                              ...              ...\n",
       "3545       Jones Energy Inc. Class A     8.000000e+00\n",
       "3546             THESTREET Inc. CVR1     2.000000e+00\n",
       "3547  Harvest Natural Resources Inc.     1.000000e+00\n",
       "3548          Universal Travel Group     0.000000e+00\n",
       "3549                Rex Energy Corp.     0.000000e+00\n",
       "\n",
       "[3550 rows x 2 columns]"
      ]
     },
     "execution_count": 40,
     "metadata": {},
     "output_type": "execute_result"
    }
   ],
   "source": [
    "# 1 create a copy of vti\n",
    "df=vti.copy() \n",
    "df.rename(columns={\"marketValue\": \"vti_marketValue\"}, inplace = True)\n",
    "df1=df[0:10]\n",
    "df"
   ]
  },
  {
   "cell_type": "code",
   "execution_count": 41,
   "metadata": {
    "scrolled": true
   },
   "outputs": [
    {
     "data": {
      "text/html": [
       "<div>\n",
       "<style scoped>\n",
       "    .dataframe tbody tr th:only-of-type {\n",
       "        vertical-align: middle;\n",
       "    }\n",
       "\n",
       "    .dataframe tbody tr th {\n",
       "        vertical-align: top;\n",
       "    }\n",
       "\n",
       "    .dataframe thead th {\n",
       "        text-align: right;\n",
       "    }\n",
       "</style>\n",
       "<table border=\"1\" class=\"dataframe\">\n",
       "  <thead>\n",
       "    <tr style=\"text-align: right;\">\n",
       "      <th></th>\n",
       "      <th>holding</th>\n",
       "      <th>vti_marketValue</th>\n",
       "      <th>vo_marketValue</th>\n",
       "    </tr>\n",
       "  </thead>\n",
       "  <tbody>\n",
       "    <tr>\n",
       "      <th>0</th>\n",
       "      <td>Microsoft Corp.</td>\n",
       "      <td>3.388885e+10</td>\n",
       "      <td>NaN</td>\n",
       "    </tr>\n",
       "    <tr>\n",
       "      <th>1</th>\n",
       "      <td>Apple Inc.</td>\n",
       "      <td>3.307893e+10</td>\n",
       "      <td>NaN</td>\n",
       "    </tr>\n",
       "    <tr>\n",
       "      <th>2</th>\n",
       "      <td>Amazon.com Inc.</td>\n",
       "      <td>2.193640e+10</td>\n",
       "      <td>NaN</td>\n",
       "    </tr>\n",
       "    <tr>\n",
       "      <th>3</th>\n",
       "      <td>Facebook Inc.</td>\n",
       "      <td>1.391406e+10</td>\n",
       "      <td>NaN</td>\n",
       "    </tr>\n",
       "    <tr>\n",
       "      <th>4</th>\n",
       "      <td>Berkshire Hathaway Inc.</td>\n",
       "      <td>1.208788e+10</td>\n",
       "      <td>NaN</td>\n",
       "    </tr>\n",
       "    <tr>\n",
       "      <th>...</th>\n",
       "      <td>...</td>\n",
       "      <td>...</td>\n",
       "      <td>...</td>\n",
       "    </tr>\n",
       "    <tr>\n",
       "      <th>3581</th>\n",
       "      <td>Liberty Broadband Corp. Class A</td>\n",
       "      <td>NaN</td>\n",
       "      <td>79723009.0</td>\n",
       "    </tr>\n",
       "    <tr>\n",
       "      <th>3582</th>\n",
       "      <td>Hyatt Hotels Corp. Class A</td>\n",
       "      <td>NaN</td>\n",
       "      <td>78324904.0</td>\n",
       "    </tr>\n",
       "    <tr>\n",
       "      <th>3583</th>\n",
       "      <td>Carvana Co. Class A</td>\n",
       "      <td>NaN</td>\n",
       "      <td>58196403.0</td>\n",
       "    </tr>\n",
       "    <tr>\n",
       "      <th>3584</th>\n",
       "      <td>Lennar Corp. Class B</td>\n",
       "      <td>NaN</td>\n",
       "      <td>9520251.0</td>\n",
       "    </tr>\n",
       "    <tr>\n",
       "      <th>3585</th>\n",
       "      <td>News Corp. Class B</td>\n",
       "      <td>NaN</td>\n",
       "      <td>5167272.0</td>\n",
       "    </tr>\n",
       "  </tbody>\n",
       "</table>\n",
       "<p>3586 rows × 3 columns</p>\n",
       "</div>"
      ],
      "text/plain": [
       "                              holding  vti_marketValue  vo_marketValue\n",
       "0                     Microsoft Corp.     3.388885e+10             NaN\n",
       "1                          Apple Inc.     3.307893e+10             NaN\n",
       "2                     Amazon.com Inc.     2.193640e+10             NaN\n",
       "3                       Facebook Inc.     1.391406e+10             NaN\n",
       "4             Berkshire Hathaway Inc.     1.208788e+10             NaN\n",
       "...                               ...              ...             ...\n",
       "3581  Liberty Broadband Corp. Class A              NaN      79723009.0\n",
       "3582       Hyatt Hotels Corp. Class A              NaN      78324904.0\n",
       "3583              Carvana Co. Class A              NaN      58196403.0\n",
       "3584             Lennar Corp. Class B              NaN       9520251.0\n",
       "3585               News Corp. Class B              NaN       5167272.0\n",
       "\n",
       "[3586 rows x 3 columns]"
      ]
     },
     "execution_count": 41,
     "metadata": {},
     "output_type": "execute_result"
    }
   ],
   "source": [
    "# 2 Merge vti with vo \n",
    "df=df.merge(vo, how='outer')\n",
    "df.rename(columns={\"marketValue\": \"vo_marketValue\"}, inplace = True)\n",
    "df"
   ]
  },
  {
   "cell_type": "code",
   "execution_count": 42,
   "metadata": {
    "scrolled": false
   },
   "outputs": [
    {
     "data": {
      "text/html": [
       "<div>\n",
       "<style scoped>\n",
       "    .dataframe tbody tr th:only-of-type {\n",
       "        vertical-align: middle;\n",
       "    }\n",
       "\n",
       "    .dataframe tbody tr th {\n",
       "        vertical-align: top;\n",
       "    }\n",
       "\n",
       "    .dataframe thead th {\n",
       "        text-align: right;\n",
       "    }\n",
       "</style>\n",
       "<table border=\"1\" class=\"dataframe\">\n",
       "  <thead>\n",
       "    <tr style=\"text-align: right;\">\n",
       "      <th></th>\n",
       "      <th>holding</th>\n",
       "      <th>vti_marketValue</th>\n",
       "      <th>vo_marketValue</th>\n",
       "      <th>vb_marketValue</th>\n",
       "    </tr>\n",
       "  </thead>\n",
       "  <tbody>\n",
       "    <tr>\n",
       "      <th>0</th>\n",
       "      <td>Microsoft Corp.</td>\n",
       "      <td>3.388885e+10</td>\n",
       "      <td>NaN</td>\n",
       "      <td>NaN</td>\n",
       "    </tr>\n",
       "    <tr>\n",
       "      <th>1</th>\n",
       "      <td>Apple Inc.</td>\n",
       "      <td>3.307893e+10</td>\n",
       "      <td>NaN</td>\n",
       "      <td>NaN</td>\n",
       "    </tr>\n",
       "    <tr>\n",
       "      <th>2</th>\n",
       "      <td>Amazon.com Inc.</td>\n",
       "      <td>2.193640e+10</td>\n",
       "      <td>NaN</td>\n",
       "      <td>NaN</td>\n",
       "    </tr>\n",
       "    <tr>\n",
       "      <th>3</th>\n",
       "      <td>Facebook Inc.</td>\n",
       "      <td>1.391406e+10</td>\n",
       "      <td>NaN</td>\n",
       "      <td>NaN</td>\n",
       "    </tr>\n",
       "    <tr>\n",
       "      <th>4</th>\n",
       "      <td>Berkshire Hathaway Inc.</td>\n",
       "      <td>1.208788e+10</td>\n",
       "      <td>NaN</td>\n",
       "      <td>NaN</td>\n",
       "    </tr>\n",
       "    <tr>\n",
       "      <th>...</th>\n",
       "      <td>...</td>\n",
       "      <td>...</td>\n",
       "      <td>...</td>\n",
       "      <td>...</td>\n",
       "    </tr>\n",
       "    <tr>\n",
       "      <th>3705</th>\n",
       "      <td>Revlon Inc. Class A</td>\n",
       "      <td>NaN</td>\n",
       "      <td>NaN</td>\n",
       "      <td>3375663.0</td>\n",
       "    </tr>\n",
       "    <tr>\n",
       "      <th>3706</th>\n",
       "      <td>SecureWorks Corp. Class A</td>\n",
       "      <td>NaN</td>\n",
       "      <td>NaN</td>\n",
       "      <td>3071588.0</td>\n",
       "    </tr>\n",
       "    <tr>\n",
       "      <th>3707</th>\n",
       "      <td>Associated Capital Group Inc. Class A</td>\n",
       "      <td>NaN</td>\n",
       "      <td>NaN</td>\n",
       "      <td>2500921.0</td>\n",
       "    </tr>\n",
       "    <tr>\n",
       "      <th>3708</th>\n",
       "      <td>Greenlight Capital Re Ltd. Class A</td>\n",
       "      <td>NaN</td>\n",
       "      <td>NaN</td>\n",
       "      <td>2062400.0</td>\n",
       "    </tr>\n",
       "    <tr>\n",
       "      <th>3709</th>\n",
       "      <td>Castlight Health Inc. Class B</td>\n",
       "      <td>NaN</td>\n",
       "      <td>NaN</td>\n",
       "      <td>261680.0</td>\n",
       "    </tr>\n",
       "  </tbody>\n",
       "</table>\n",
       "<p>3710 rows × 4 columns</p>\n",
       "</div>"
      ],
      "text/plain": [
       "                                    holding  vti_marketValue  vo_marketValue  \\\n",
       "0                           Microsoft Corp.     3.388885e+10             NaN   \n",
       "1                                Apple Inc.     3.307893e+10             NaN   \n",
       "2                           Amazon.com Inc.     2.193640e+10             NaN   \n",
       "3                             Facebook Inc.     1.391406e+10             NaN   \n",
       "4                   Berkshire Hathaway Inc.     1.208788e+10             NaN   \n",
       "...                                     ...              ...             ...   \n",
       "3705                    Revlon Inc. Class A              NaN             NaN   \n",
       "3706              SecureWorks Corp. Class A              NaN             NaN   \n",
       "3707  Associated Capital Group Inc. Class A              NaN             NaN   \n",
       "3708     Greenlight Capital Re Ltd. Class A              NaN             NaN   \n",
       "3709          Castlight Health Inc. Class B              NaN             NaN   \n",
       "\n",
       "      vb_marketValue  \n",
       "0                NaN  \n",
       "1                NaN  \n",
       "2                NaN  \n",
       "3                NaN  \n",
       "4                NaN  \n",
       "...              ...  \n",
       "3705       3375663.0  \n",
       "3706       3071588.0  \n",
       "3707       2500921.0  \n",
       "3708       2062400.0  \n",
       "3709        261680.0  \n",
       "\n",
       "[3710 rows x 4 columns]"
      ]
     },
     "execution_count": 42,
     "metadata": {},
     "output_type": "execute_result"
    }
   ],
   "source": [
    "# 3 Merge vti, vo  with vb\n",
    "df=df.merge(vb, how='outer')\n",
    "df.rename(columns={\"marketValue\": \"vb_marketValue\"}, inplace = True)\n",
    "df"
   ]
  },
  {
   "cell_type": "code",
   "execution_count": 43,
   "metadata": {},
   "outputs": [
    {
     "data": {
      "text/html": [
       "<div>\n",
       "<style scoped>\n",
       "    .dataframe tbody tr th:only-of-type {\n",
       "        vertical-align: middle;\n",
       "    }\n",
       "\n",
       "    .dataframe tbody tr th {\n",
       "        vertical-align: top;\n",
       "    }\n",
       "\n",
       "    .dataframe thead th {\n",
       "        text-align: right;\n",
       "    }\n",
       "</style>\n",
       "<table border=\"1\" class=\"dataframe\">\n",
       "  <thead>\n",
       "    <tr style=\"text-align: right;\">\n",
       "      <th></th>\n",
       "      <th>holding</th>\n",
       "      <th>vti_marketValue</th>\n",
       "      <th>vo_marketValue</th>\n",
       "      <th>vb_marketValue</th>\n",
       "      <th>voo_marketValue</th>\n",
       "    </tr>\n",
       "  </thead>\n",
       "  <tbody>\n",
       "    <tr>\n",
       "      <th>0</th>\n",
       "      <td>Microsoft Corp.</td>\n",
       "      <td>3.388885e+10</td>\n",
       "      <td>NaN</td>\n",
       "      <td>NaN</td>\n",
       "      <td>2.403557e+10</td>\n",
       "    </tr>\n",
       "    <tr>\n",
       "      <th>1</th>\n",
       "      <td>Apple Inc.</td>\n",
       "      <td>3.307893e+10</td>\n",
       "      <td>NaN</td>\n",
       "      <td>NaN</td>\n",
       "      <td>2.450349e+10</td>\n",
       "    </tr>\n",
       "    <tr>\n",
       "      <th>2</th>\n",
       "      <td>Amazon.com Inc.</td>\n",
       "      <td>2.193640e+10</td>\n",
       "      <td>NaN</td>\n",
       "      <td>NaN</td>\n",
       "      <td>1.537491e+10</td>\n",
       "    </tr>\n",
       "    <tr>\n",
       "      <th>3</th>\n",
       "      <td>Facebook Inc.</td>\n",
       "      <td>1.391406e+10</td>\n",
       "      <td>NaN</td>\n",
       "      <td>NaN</td>\n",
       "      <td>NaN</td>\n",
       "    </tr>\n",
       "    <tr>\n",
       "      <th>4</th>\n",
       "      <td>Berkshire Hathaway Inc.</td>\n",
       "      <td>1.208788e+10</td>\n",
       "      <td>NaN</td>\n",
       "      <td>NaN</td>\n",
       "      <td>NaN</td>\n",
       "    </tr>\n",
       "    <tr>\n",
       "      <th>...</th>\n",
       "      <td>...</td>\n",
       "      <td>...</td>\n",
       "      <td>...</td>\n",
       "      <td>...</td>\n",
       "      <td>...</td>\n",
       "    </tr>\n",
       "    <tr>\n",
       "      <th>3722</th>\n",
       "      <td>Marriott International Inc./MD Class A</td>\n",
       "      <td>NaN</td>\n",
       "      <td>NaN</td>\n",
       "      <td>NaN</td>\n",
       "      <td>8.209544e+08</td>\n",
       "    </tr>\n",
       "    <tr>\n",
       "      <th>3723</th>\n",
       "      <td>Cognizant Technology Solutions Corp. Class A</td>\n",
       "      <td>NaN</td>\n",
       "      <td>NaN</td>\n",
       "      <td>NaN</td>\n",
       "      <td>6.784981e+08</td>\n",
       "    </tr>\n",
       "    <tr>\n",
       "      <th>3724</th>\n",
       "      <td>LyondellBasell Industries NV Class A</td>\n",
       "      <td>NaN</td>\n",
       "      <td>NaN</td>\n",
       "      <td>NaN</td>\n",
       "      <td>4.845976e+08</td>\n",
       "    </tr>\n",
       "    <tr>\n",
       "      <th>3725</th>\n",
       "      <td>Republic Services Inc. Class A</td>\n",
       "      <td>NaN</td>\n",
       "      <td>NaN</td>\n",
       "      <td>NaN</td>\n",
       "      <td>3.771746e+08</td>\n",
       "    </tr>\n",
       "    <tr>\n",
       "      <th>3726</th>\n",
       "      <td>Brown-Forman Corp. Class B</td>\n",
       "      <td>NaN</td>\n",
       "      <td>NaN</td>\n",
       "      <td>NaN</td>\n",
       "      <td>2.459633e+08</td>\n",
       "    </tr>\n",
       "  </tbody>\n",
       "</table>\n",
       "<p>3727 rows × 5 columns</p>\n",
       "</div>"
      ],
      "text/plain": [
       "                                           holding  vti_marketValue  \\\n",
       "0                                  Microsoft Corp.     3.388885e+10   \n",
       "1                                       Apple Inc.     3.307893e+10   \n",
       "2                                  Amazon.com Inc.     2.193640e+10   \n",
       "3                                    Facebook Inc.     1.391406e+10   \n",
       "4                          Berkshire Hathaway Inc.     1.208788e+10   \n",
       "...                                            ...              ...   \n",
       "3722        Marriott International Inc./MD Class A              NaN   \n",
       "3723  Cognizant Technology Solutions Corp. Class A              NaN   \n",
       "3724          LyondellBasell Industries NV Class A              NaN   \n",
       "3725                Republic Services Inc. Class A              NaN   \n",
       "3726                    Brown-Forman Corp. Class B              NaN   \n",
       "\n",
       "      vo_marketValue  vb_marketValue  voo_marketValue  \n",
       "0                NaN             NaN     2.403557e+10  \n",
       "1                NaN             NaN     2.450349e+10  \n",
       "2                NaN             NaN     1.537491e+10  \n",
       "3                NaN             NaN              NaN  \n",
       "4                NaN             NaN              NaN  \n",
       "...              ...             ...              ...  \n",
       "3722             NaN             NaN     8.209544e+08  \n",
       "3723             NaN             NaN     6.784981e+08  \n",
       "3724             NaN             NaN     4.845976e+08  \n",
       "3725             NaN             NaN     3.771746e+08  \n",
       "3726             NaN             NaN     2.459633e+08  \n",
       "\n",
       "[3727 rows x 5 columns]"
      ]
     },
     "execution_count": 43,
     "metadata": {},
     "output_type": "execute_result"
    }
   ],
   "source": [
    "# 4 Merge vti, vo, vb with voo\n",
    "df=df.merge(voo, how='outer')\n",
    "df.rename(columns={\"marketValue\": \"voo_marketValue\"}, inplace = True)\n",
    "df"
   ]
  },
  {
   "cell_type": "code",
   "execution_count": 44,
   "metadata": {},
   "outputs": [
    {
     "data": {
      "text/html": [
       "<div>\n",
       "<style scoped>\n",
       "    .dataframe tbody tr th:only-of-type {\n",
       "        vertical-align: middle;\n",
       "    }\n",
       "\n",
       "    .dataframe tbody tr th {\n",
       "        vertical-align: top;\n",
       "    }\n",
       "\n",
       "    .dataframe thead th {\n",
       "        text-align: right;\n",
       "    }\n",
       "</style>\n",
       "<table border=\"1\" class=\"dataframe\">\n",
       "  <thead>\n",
       "    <tr style=\"text-align: right;\">\n",
       "      <th></th>\n",
       "      <th>holding</th>\n",
       "      <th>vti_marketValue</th>\n",
       "      <th>vo_marketValue</th>\n",
       "      <th>vb_marketValue</th>\n",
       "      <th>voo_marketValue</th>\n",
       "      <th>vxf_marketValue</th>\n",
       "    </tr>\n",
       "  </thead>\n",
       "  <tbody>\n",
       "    <tr>\n",
       "      <th>0</th>\n",
       "      <td>Microsoft Corp.</td>\n",
       "      <td>3.388885e+10</td>\n",
       "      <td>NaN</td>\n",
       "      <td>NaN</td>\n",
       "      <td>2.403557e+10</td>\n",
       "      <td>NaN</td>\n",
       "    </tr>\n",
       "    <tr>\n",
       "      <th>1</th>\n",
       "      <td>Apple Inc.</td>\n",
       "      <td>3.307893e+10</td>\n",
       "      <td>NaN</td>\n",
       "      <td>NaN</td>\n",
       "      <td>2.450349e+10</td>\n",
       "      <td>NaN</td>\n",
       "    </tr>\n",
       "    <tr>\n",
       "      <th>2</th>\n",
       "      <td>Amazon.com Inc.</td>\n",
       "      <td>2.193640e+10</td>\n",
       "      <td>NaN</td>\n",
       "      <td>NaN</td>\n",
       "      <td>1.537491e+10</td>\n",
       "      <td>NaN</td>\n",
       "    </tr>\n",
       "    <tr>\n",
       "      <th>3</th>\n",
       "      <td>Facebook Inc.</td>\n",
       "      <td>1.391406e+10</td>\n",
       "      <td>NaN</td>\n",
       "      <td>NaN</td>\n",
       "      <td>NaN</td>\n",
       "      <td>NaN</td>\n",
       "    </tr>\n",
       "    <tr>\n",
       "      <th>4</th>\n",
       "      <td>Berkshire Hathaway Inc.</td>\n",
       "      <td>1.208788e+10</td>\n",
       "      <td>NaN</td>\n",
       "      <td>NaN</td>\n",
       "      <td>NaN</td>\n",
       "      <td>NaN</td>\n",
       "    </tr>\n",
       "    <tr>\n",
       "      <th>...</th>\n",
       "      <td>...</td>\n",
       "      <td>...</td>\n",
       "      <td>...</td>\n",
       "      <td>...</td>\n",
       "      <td>...</td>\n",
       "      <td>...</td>\n",
       "    </tr>\n",
       "    <tr>\n",
       "      <th>4076</th>\n",
       "      <td>Nephros Inc.</td>\n",
       "      <td>NaN</td>\n",
       "      <td>NaN</td>\n",
       "      <td>NaN</td>\n",
       "      <td>NaN</td>\n",
       "      <td>995.0</td>\n",
       "    </tr>\n",
       "    <tr>\n",
       "      <th>4077</th>\n",
       "      <td>Priority Technology Holdings Inc.</td>\n",
       "      <td>NaN</td>\n",
       "      <td>NaN</td>\n",
       "      <td>NaN</td>\n",
       "      <td>NaN</td>\n",
       "      <td>260.0</td>\n",
       "    </tr>\n",
       "    <tr>\n",
       "      <th>4078</th>\n",
       "      <td>Cohen &amp; Co. Inc.</td>\n",
       "      <td>NaN</td>\n",
       "      <td>NaN</td>\n",
       "      <td>NaN</td>\n",
       "      <td>NaN</td>\n",
       "      <td>253.0</td>\n",
       "    </tr>\n",
       "    <tr>\n",
       "      <th>4079</th>\n",
       "      <td>InnSuites Hospitality Trust</td>\n",
       "      <td>NaN</td>\n",
       "      <td>NaN</td>\n",
       "      <td>NaN</td>\n",
       "      <td>NaN</td>\n",
       "      <td>165.0</td>\n",
       "    </tr>\n",
       "    <tr>\n",
       "      <th>4080</th>\n",
       "      <td>TheStreet CVR</td>\n",
       "      <td>NaN</td>\n",
       "      <td>NaN</td>\n",
       "      <td>NaN</td>\n",
       "      <td>NaN</td>\n",
       "      <td>1.0</td>\n",
       "    </tr>\n",
       "  </tbody>\n",
       "</table>\n",
       "<p>4081 rows × 6 columns</p>\n",
       "</div>"
      ],
      "text/plain": [
       "                                holding  vti_marketValue  vo_marketValue  \\\n",
       "0                       Microsoft Corp.     3.388885e+10             NaN   \n",
       "1                            Apple Inc.     3.307893e+10             NaN   \n",
       "2                       Amazon.com Inc.     2.193640e+10             NaN   \n",
       "3                         Facebook Inc.     1.391406e+10             NaN   \n",
       "4               Berkshire Hathaway Inc.     1.208788e+10             NaN   \n",
       "...                                 ...              ...             ...   \n",
       "4076                       Nephros Inc.              NaN             NaN   \n",
       "4077  Priority Technology Holdings Inc.              NaN             NaN   \n",
       "4078                   Cohen & Co. Inc.              NaN             NaN   \n",
       "4079        InnSuites Hospitality Trust              NaN             NaN   \n",
       "4080                      TheStreet CVR              NaN             NaN   \n",
       "\n",
       "      vb_marketValue  voo_marketValue  vxf_marketValue  \n",
       "0                NaN     2.403557e+10              NaN  \n",
       "1                NaN     2.450349e+10              NaN  \n",
       "2                NaN     1.537491e+10              NaN  \n",
       "3                NaN              NaN              NaN  \n",
       "4                NaN              NaN              NaN  \n",
       "...              ...              ...              ...  \n",
       "4076             NaN              NaN            995.0  \n",
       "4077             NaN              NaN            260.0  \n",
       "4078             NaN              NaN            253.0  \n",
       "4079             NaN              NaN            165.0  \n",
       "4080             NaN              NaN              1.0  \n",
       "\n",
       "[4081 rows x 6 columns]"
      ]
     },
     "execution_count": 44,
     "metadata": {},
     "output_type": "execute_result"
    }
   ],
   "source": [
    "# 5 Merge vti, vo, vb, voo with vxf\n",
    "df=df.merge(vxf, how='outer')\n",
    "df.rename(columns={\"marketValue\": \"vxf_marketValue\"}, inplace = True)\n",
    "df"
   ]
  },
  {
   "cell_type": "code",
   "execution_count": 45,
   "metadata": {
    "scrolled": false
   },
   "outputs": [
    {
     "data": {
      "text/html": [
       "<div>\n",
       "<style scoped>\n",
       "    .dataframe tbody tr th:only-of-type {\n",
       "        vertical-align: middle;\n",
       "    }\n",
       "\n",
       "    .dataframe tbody tr th {\n",
       "        vertical-align: top;\n",
       "    }\n",
       "\n",
       "    .dataframe thead th {\n",
       "        text-align: right;\n",
       "    }\n",
       "</style>\n",
       "<table border=\"1\" class=\"dataframe\">\n",
       "  <thead>\n",
       "    <tr style=\"text-align: right;\">\n",
       "      <th></th>\n",
       "      <th>holding</th>\n",
       "      <th>vti_marketValue</th>\n",
       "      <th>vo_marketValue</th>\n",
       "      <th>vb_marketValue</th>\n",
       "      <th>voo_marketValue</th>\n",
       "      <th>vxf_marketValue</th>\n",
       "    </tr>\n",
       "  </thead>\n",
       "  <tbody>\n",
       "    <tr>\n",
       "      <th>0</th>\n",
       "      <td>Microsoft Corp.</td>\n",
       "      <td>3.388885e+10</td>\n",
       "      <td>0.0</td>\n",
       "      <td>0.0</td>\n",
       "      <td>2.403557e+10</td>\n",
       "      <td>0.0</td>\n",
       "    </tr>\n",
       "    <tr>\n",
       "      <th>1</th>\n",
       "      <td>Apple Inc.</td>\n",
       "      <td>3.307893e+10</td>\n",
       "      <td>0.0</td>\n",
       "      <td>0.0</td>\n",
       "      <td>2.450349e+10</td>\n",
       "      <td>0.0</td>\n",
       "    </tr>\n",
       "    <tr>\n",
       "      <th>2</th>\n",
       "      <td>Amazon.com Inc.</td>\n",
       "      <td>2.193640e+10</td>\n",
       "      <td>0.0</td>\n",
       "      <td>0.0</td>\n",
       "      <td>1.537491e+10</td>\n",
       "      <td>0.0</td>\n",
       "    </tr>\n",
       "    <tr>\n",
       "      <th>3</th>\n",
       "      <td>Facebook Inc.</td>\n",
       "      <td>1.391406e+10</td>\n",
       "      <td>0.0</td>\n",
       "      <td>0.0</td>\n",
       "      <td>0.000000e+00</td>\n",
       "      <td>0.0</td>\n",
       "    </tr>\n",
       "    <tr>\n",
       "      <th>4</th>\n",
       "      <td>Berkshire Hathaway Inc.</td>\n",
       "      <td>1.208788e+10</td>\n",
       "      <td>0.0</td>\n",
       "      <td>0.0</td>\n",
       "      <td>0.000000e+00</td>\n",
       "      <td>0.0</td>\n",
       "    </tr>\n",
       "    <tr>\n",
       "      <th>...</th>\n",
       "      <td>...</td>\n",
       "      <td>...</td>\n",
       "      <td>...</td>\n",
       "      <td>...</td>\n",
       "      <td>...</td>\n",
       "      <td>...</td>\n",
       "    </tr>\n",
       "    <tr>\n",
       "      <th>4076</th>\n",
       "      <td>Nephros Inc.</td>\n",
       "      <td>0.000000e+00</td>\n",
       "      <td>0.0</td>\n",
       "      <td>0.0</td>\n",
       "      <td>0.000000e+00</td>\n",
       "      <td>995.0</td>\n",
       "    </tr>\n",
       "    <tr>\n",
       "      <th>4077</th>\n",
       "      <td>Priority Technology Holdings Inc.</td>\n",
       "      <td>0.000000e+00</td>\n",
       "      <td>0.0</td>\n",
       "      <td>0.0</td>\n",
       "      <td>0.000000e+00</td>\n",
       "      <td>260.0</td>\n",
       "    </tr>\n",
       "    <tr>\n",
       "      <th>4078</th>\n",
       "      <td>Cohen &amp; Co. Inc.</td>\n",
       "      <td>0.000000e+00</td>\n",
       "      <td>0.0</td>\n",
       "      <td>0.0</td>\n",
       "      <td>0.000000e+00</td>\n",
       "      <td>253.0</td>\n",
       "    </tr>\n",
       "    <tr>\n",
       "      <th>4079</th>\n",
       "      <td>InnSuites Hospitality Trust</td>\n",
       "      <td>0.000000e+00</td>\n",
       "      <td>0.0</td>\n",
       "      <td>0.0</td>\n",
       "      <td>0.000000e+00</td>\n",
       "      <td>165.0</td>\n",
       "    </tr>\n",
       "    <tr>\n",
       "      <th>4080</th>\n",
       "      <td>TheStreet CVR</td>\n",
       "      <td>0.000000e+00</td>\n",
       "      <td>0.0</td>\n",
       "      <td>0.0</td>\n",
       "      <td>0.000000e+00</td>\n",
       "      <td>1.0</td>\n",
       "    </tr>\n",
       "  </tbody>\n",
       "</table>\n",
       "<p>4081 rows × 6 columns</p>\n",
       "</div>"
      ],
      "text/plain": [
       "                                holding  vti_marketValue  vo_marketValue  \\\n",
       "0                       Microsoft Corp.     3.388885e+10             0.0   \n",
       "1                            Apple Inc.     3.307893e+10             0.0   \n",
       "2                       Amazon.com Inc.     2.193640e+10             0.0   \n",
       "3                         Facebook Inc.     1.391406e+10             0.0   \n",
       "4               Berkshire Hathaway Inc.     1.208788e+10             0.0   \n",
       "...                                 ...              ...             ...   \n",
       "4076                       Nephros Inc.     0.000000e+00             0.0   \n",
       "4077  Priority Technology Holdings Inc.     0.000000e+00             0.0   \n",
       "4078                   Cohen & Co. Inc.     0.000000e+00             0.0   \n",
       "4079        InnSuites Hospitality Trust     0.000000e+00             0.0   \n",
       "4080                      TheStreet CVR     0.000000e+00             0.0   \n",
       "\n",
       "      vb_marketValue  voo_marketValue  vxf_marketValue  \n",
       "0                0.0     2.403557e+10              0.0  \n",
       "1                0.0     2.450349e+10              0.0  \n",
       "2                0.0     1.537491e+10              0.0  \n",
       "3                0.0     0.000000e+00              0.0  \n",
       "4                0.0     0.000000e+00              0.0  \n",
       "...              ...              ...              ...  \n",
       "4076             0.0     0.000000e+00            995.0  \n",
       "4077             0.0     0.000000e+00            260.0  \n",
       "4078             0.0     0.000000e+00            253.0  \n",
       "4079             0.0     0.000000e+00            165.0  \n",
       "4080             0.0     0.000000e+00              1.0  \n",
       "\n",
       "[4081 rows x 6 columns]"
      ]
     },
     "execution_count": 45,
     "metadata": {},
     "output_type": "execute_result"
    }
   ],
   "source": [
    "# Replace NaN with 0.0\n",
    "df['vti_marketValue']=df['vti_marketValue'].fillna(0.0)\n",
    "df['vo_marketValue']=df['vo_marketValue'].fillna(0.0)\n",
    "df['vb_marketValue']=df['vb_marketValue'].fillna(0.0)\n",
    "df['voo_marketValue']=df['voo_marketValue'].fillna(0.0)\n",
    "df['vxf_marketValue']=df['vxf_marketValue'].fillna(0.0)\n",
    "df"
   ]
  },
  {
   "cell_type": "code",
   "execution_count": 46,
   "metadata": {},
   "outputs": [],
   "source": [
    "# Create marketValue column sum \n",
    "vti_sum=df['vti_marketValue'].sum(axis=0)\n",
    "vo_sum= df['vo_marketValue' ].sum(axis=0)\n",
    "vb_sum= df['vb_marketValue' ].sum(axis=0)\n",
    "voo_sum=df['voo_marketValue'].sum(axis=0)\n",
    "vxf_sum=df['vxf_marketValue'].sum(axis=0)"
   ]
  },
  {
   "cell_type": "code",
   "execution_count": 47,
   "metadata": {},
   "outputs": [
    {
     "data": {
      "text/plain": [
       "0.01656608227240875"
      ]
     },
     "execution_count": 47,
     "metadata": {},
     "output_type": "execute_result"
    }
   ],
   "source": [
    "(df['vti_marketValue'][0]/(vti_sum) + df['vo_marketValue'][0]/(vo_sum) + df['vb_marketValue'][0]/(vb_sum) + df['voo_marketValue'][0]/(voo_sum) + df['vxf_marketValue'][0]/(vxf_sum))/5"
   ]
  },
  {
   "cell_type": "code",
   "execution_count": 48,
   "metadata": {
    "scrolled": true
   },
   "outputs": [
    {
     "data": {
      "text/html": [
       "<div>\n",
       "<style scoped>\n",
       "    .dataframe tbody tr th:only-of-type {\n",
       "        vertical-align: middle;\n",
       "    }\n",
       "\n",
       "    .dataframe tbody tr th {\n",
       "        vertical-align: top;\n",
       "    }\n",
       "\n",
       "    .dataframe thead th {\n",
       "        text-align: right;\n",
       "    }\n",
       "</style>\n",
       "<table border=\"1\" class=\"dataframe\">\n",
       "  <thead>\n",
       "    <tr style=\"text-align: right;\">\n",
       "      <th></th>\n",
       "      <th>holding</th>\n",
       "      <th>vti_marketValue</th>\n",
       "      <th>vo_marketValue</th>\n",
       "      <th>vb_marketValue</th>\n",
       "      <th>voo_marketValue</th>\n",
       "      <th>vxf_marketValue</th>\n",
       "      <th>vti_share</th>\n",
       "      <th>vo_share</th>\n",
       "      <th>vb_share</th>\n",
       "      <th>voo_share</th>\n",
       "      <th>vxf_share</th>\n",
       "    </tr>\n",
       "  </thead>\n",
       "  <tbody>\n",
       "    <tr>\n",
       "      <th>0</th>\n",
       "      <td>Microsoft Corp.</td>\n",
       "      <td>3.388885e+10</td>\n",
       "      <td>0.0</td>\n",
       "      <td>0.0</td>\n",
       "      <td>2.403557e+10</td>\n",
       "      <td>0.0</td>\n",
       "      <td>0.037868</td>\n",
       "      <td>0.0</td>\n",
       "      <td>0.0</td>\n",
       "      <td>0.044962</td>\n",
       "      <td>0.000000e+00</td>\n",
       "    </tr>\n",
       "    <tr>\n",
       "      <th>1</th>\n",
       "      <td>Apple Inc.</td>\n",
       "      <td>3.307893e+10</td>\n",
       "      <td>0.0</td>\n",
       "      <td>0.0</td>\n",
       "      <td>2.450349e+10</td>\n",
       "      <td>0.0</td>\n",
       "      <td>0.036963</td>\n",
       "      <td>0.0</td>\n",
       "      <td>0.0</td>\n",
       "      <td>0.045838</td>\n",
       "      <td>0.000000e+00</td>\n",
       "    </tr>\n",
       "    <tr>\n",
       "      <th>2</th>\n",
       "      <td>Amazon.com Inc.</td>\n",
       "      <td>2.193640e+10</td>\n",
       "      <td>0.0</td>\n",
       "      <td>0.0</td>\n",
       "      <td>1.537491e+10</td>\n",
       "      <td>0.0</td>\n",
       "      <td>0.024512</td>\n",
       "      <td>0.0</td>\n",
       "      <td>0.0</td>\n",
       "      <td>0.028761</td>\n",
       "      <td>0.000000e+00</td>\n",
       "    </tr>\n",
       "    <tr>\n",
       "      <th>3</th>\n",
       "      <td>Facebook Inc.</td>\n",
       "      <td>1.391406e+10</td>\n",
       "      <td>0.0</td>\n",
       "      <td>0.0</td>\n",
       "      <td>0.000000e+00</td>\n",
       "      <td>0.0</td>\n",
       "      <td>0.015548</td>\n",
       "      <td>0.0</td>\n",
       "      <td>0.0</td>\n",
       "      <td>0.000000</td>\n",
       "      <td>0.000000e+00</td>\n",
       "    </tr>\n",
       "    <tr>\n",
       "      <th>4</th>\n",
       "      <td>Berkshire Hathaway Inc.</td>\n",
       "      <td>1.208788e+10</td>\n",
       "      <td>0.0</td>\n",
       "      <td>0.0</td>\n",
       "      <td>0.000000e+00</td>\n",
       "      <td>0.0</td>\n",
       "      <td>0.013507</td>\n",
       "      <td>0.0</td>\n",
       "      <td>0.0</td>\n",
       "      <td>0.000000</td>\n",
       "      <td>0.000000e+00</td>\n",
       "    </tr>\n",
       "    <tr>\n",
       "      <th>...</th>\n",
       "      <td>...</td>\n",
       "      <td>...</td>\n",
       "      <td>...</td>\n",
       "      <td>...</td>\n",
       "      <td>...</td>\n",
       "      <td>...</td>\n",
       "      <td>...</td>\n",
       "      <td>...</td>\n",
       "      <td>...</td>\n",
       "      <td>...</td>\n",
       "      <td>...</td>\n",
       "    </tr>\n",
       "    <tr>\n",
       "      <th>4076</th>\n",
       "      <td>Nephros Inc.</td>\n",
       "      <td>0.000000e+00</td>\n",
       "      <td>0.0</td>\n",
       "      <td>0.0</td>\n",
       "      <td>0.000000e+00</td>\n",
       "      <td>995.0</td>\n",
       "      <td>0.000000</td>\n",
       "      <td>0.0</td>\n",
       "      <td>0.0</td>\n",
       "      <td>0.000000</td>\n",
       "      <td>1.338054e-08</td>\n",
       "    </tr>\n",
       "    <tr>\n",
       "      <th>4077</th>\n",
       "      <td>Priority Technology Holdings Inc.</td>\n",
       "      <td>0.000000e+00</td>\n",
       "      <td>0.0</td>\n",
       "      <td>0.0</td>\n",
       "      <td>0.000000e+00</td>\n",
       "      <td>260.0</td>\n",
       "      <td>0.000000</td>\n",
       "      <td>0.0</td>\n",
       "      <td>0.0</td>\n",
       "      <td>0.000000</td>\n",
       "      <td>3.496423e-09</td>\n",
       "    </tr>\n",
       "    <tr>\n",
       "      <th>4078</th>\n",
       "      <td>Cohen &amp; Co. Inc.</td>\n",
       "      <td>0.000000e+00</td>\n",
       "      <td>0.0</td>\n",
       "      <td>0.0</td>\n",
       "      <td>0.000000e+00</td>\n",
       "      <td>253.0</td>\n",
       "      <td>0.000000</td>\n",
       "      <td>0.0</td>\n",
       "      <td>0.0</td>\n",
       "      <td>0.000000</td>\n",
       "      <td>3.402289e-09</td>\n",
       "    </tr>\n",
       "    <tr>\n",
       "      <th>4079</th>\n",
       "      <td>InnSuites Hospitality Trust</td>\n",
       "      <td>0.000000e+00</td>\n",
       "      <td>0.0</td>\n",
       "      <td>0.0</td>\n",
       "      <td>0.000000e+00</td>\n",
       "      <td>165.0</td>\n",
       "      <td>0.000000</td>\n",
       "      <td>0.0</td>\n",
       "      <td>0.0</td>\n",
       "      <td>0.000000</td>\n",
       "      <td>2.218884e-09</td>\n",
       "    </tr>\n",
       "    <tr>\n",
       "      <th>4080</th>\n",
       "      <td>TheStreet CVR</td>\n",
       "      <td>0.000000e+00</td>\n",
       "      <td>0.0</td>\n",
       "      <td>0.0</td>\n",
       "      <td>0.000000e+00</td>\n",
       "      <td>1.0</td>\n",
       "      <td>0.000000</td>\n",
       "      <td>0.0</td>\n",
       "      <td>0.0</td>\n",
       "      <td>0.000000</td>\n",
       "      <td>1.344778e-11</td>\n",
       "    </tr>\n",
       "  </tbody>\n",
       "</table>\n",
       "<p>4081 rows × 11 columns</p>\n",
       "</div>"
      ],
      "text/plain": [
       "                                holding  vti_marketValue  vo_marketValue  \\\n",
       "0                       Microsoft Corp.     3.388885e+10             0.0   \n",
       "1                            Apple Inc.     3.307893e+10             0.0   \n",
       "2                       Amazon.com Inc.     2.193640e+10             0.0   \n",
       "3                         Facebook Inc.     1.391406e+10             0.0   \n",
       "4               Berkshire Hathaway Inc.     1.208788e+10             0.0   \n",
       "...                                 ...              ...             ...   \n",
       "4076                       Nephros Inc.     0.000000e+00             0.0   \n",
       "4077  Priority Technology Holdings Inc.     0.000000e+00             0.0   \n",
       "4078                   Cohen & Co. Inc.     0.000000e+00             0.0   \n",
       "4079        InnSuites Hospitality Trust     0.000000e+00             0.0   \n",
       "4080                      TheStreet CVR     0.000000e+00             0.0   \n",
       "\n",
       "      vb_marketValue  voo_marketValue  vxf_marketValue  vti_share  vo_share  \\\n",
       "0                0.0     2.403557e+10              0.0   0.037868       0.0   \n",
       "1                0.0     2.450349e+10              0.0   0.036963       0.0   \n",
       "2                0.0     1.537491e+10              0.0   0.024512       0.0   \n",
       "3                0.0     0.000000e+00              0.0   0.015548       0.0   \n",
       "4                0.0     0.000000e+00              0.0   0.013507       0.0   \n",
       "...              ...              ...              ...        ...       ...   \n",
       "4076             0.0     0.000000e+00            995.0   0.000000       0.0   \n",
       "4077             0.0     0.000000e+00            260.0   0.000000       0.0   \n",
       "4078             0.0     0.000000e+00            253.0   0.000000       0.0   \n",
       "4079             0.0     0.000000e+00            165.0   0.000000       0.0   \n",
       "4080             0.0     0.000000e+00              1.0   0.000000       0.0   \n",
       "\n",
       "      vb_share  voo_share     vxf_share  \n",
       "0          0.0   0.044962  0.000000e+00  \n",
       "1          0.0   0.045838  0.000000e+00  \n",
       "2          0.0   0.028761  0.000000e+00  \n",
       "3          0.0   0.000000  0.000000e+00  \n",
       "4          0.0   0.000000  0.000000e+00  \n",
       "...        ...        ...           ...  \n",
       "4076       0.0   0.000000  1.338054e-08  \n",
       "4077       0.0   0.000000  3.496423e-09  \n",
       "4078       0.0   0.000000  3.402289e-09  \n",
       "4079       0.0   0.000000  2.218884e-09  \n",
       "4080       0.0   0.000000  1.344778e-11  \n",
       "\n",
       "[4081 rows x 11 columns]"
      ]
     },
     "execution_count": 48,
     "metadata": {},
     "output_type": "execute_result"
    }
   ],
   "source": [
    "# Create a new columns with the % of the total column value\n",
    "df['vti_share']=df['vti_marketValue']/vti_sum\n",
    "df['vo_share'] =df['vo_marketValue']/vo_sum\n",
    "df['vb_share'] =df['vb_marketValue']/vb_sum\n",
    "df['voo_share']=df['voo_marketValue']/voo_sum\n",
    "df['vxf_share']=df['vxf_marketValue']/vxf_sum\n",
    "df"
   ]
  },
  {
   "cell_type": "code",
   "execution_count": 49,
   "metadata": {
    "scrolled": true
   },
   "outputs": [
    {
     "data": {
      "text/html": [
       "<div>\n",
       "<style scoped>\n",
       "    .dataframe tbody tr th:only-of-type {\n",
       "        vertical-align: middle;\n",
       "    }\n",
       "\n",
       "    .dataframe tbody tr th {\n",
       "        vertical-align: top;\n",
       "    }\n",
       "\n",
       "    .dataframe thead th {\n",
       "        text-align: right;\n",
       "    }\n",
       "</style>\n",
       "<table border=\"1\" class=\"dataframe\">\n",
       "  <thead>\n",
       "    <tr style=\"text-align: right;\">\n",
       "      <th></th>\n",
       "      <th>holding</th>\n",
       "      <th>vti_marketValue</th>\n",
       "      <th>vo_marketValue</th>\n",
       "      <th>vb_marketValue</th>\n",
       "      <th>voo_marketValue</th>\n",
       "      <th>vxf_marketValue</th>\n",
       "      <th>vti_share</th>\n",
       "      <th>vo_share</th>\n",
       "      <th>vb_share</th>\n",
       "      <th>voo_share</th>\n",
       "      <th>vxf_share</th>\n",
       "      <th>total_share</th>\n",
       "    </tr>\n",
       "  </thead>\n",
       "  <tbody>\n",
       "    <tr>\n",
       "      <th>0</th>\n",
       "      <td>Microsoft Corp.</td>\n",
       "      <td>3.388885e+10</td>\n",
       "      <td>0.0</td>\n",
       "      <td>0.0</td>\n",
       "      <td>2.403557e+10</td>\n",
       "      <td>0.0</td>\n",
       "      <td>0.037868</td>\n",
       "      <td>0.0</td>\n",
       "      <td>0.0</td>\n",
       "      <td>0.044962</td>\n",
       "      <td>0.000000e+00</td>\n",
       "      <td>1.656608e-02</td>\n",
       "    </tr>\n",
       "    <tr>\n",
       "      <th>1</th>\n",
       "      <td>Apple Inc.</td>\n",
       "      <td>3.307893e+10</td>\n",
       "      <td>0.0</td>\n",
       "      <td>0.0</td>\n",
       "      <td>2.450349e+10</td>\n",
       "      <td>0.0</td>\n",
       "      <td>0.036963</td>\n",
       "      <td>0.0</td>\n",
       "      <td>0.0</td>\n",
       "      <td>0.045838</td>\n",
       "      <td>0.000000e+00</td>\n",
       "      <td>1.656014e-02</td>\n",
       "    </tr>\n",
       "    <tr>\n",
       "      <th>2</th>\n",
       "      <td>Amazon.com Inc.</td>\n",
       "      <td>2.193640e+10</td>\n",
       "      <td>0.0</td>\n",
       "      <td>0.0</td>\n",
       "      <td>1.537491e+10</td>\n",
       "      <td>0.0</td>\n",
       "      <td>0.024512</td>\n",
       "      <td>0.0</td>\n",
       "      <td>0.0</td>\n",
       "      <td>0.028761</td>\n",
       "      <td>0.000000e+00</td>\n",
       "      <td>1.065467e-02</td>\n",
       "    </tr>\n",
       "    <tr>\n",
       "      <th>3</th>\n",
       "      <td>Facebook Inc.</td>\n",
       "      <td>1.391406e+10</td>\n",
       "      <td>0.0</td>\n",
       "      <td>0.0</td>\n",
       "      <td>0.000000e+00</td>\n",
       "      <td>0.0</td>\n",
       "      <td>0.015548</td>\n",
       "      <td>0.0</td>\n",
       "      <td>0.0</td>\n",
       "      <td>0.000000</td>\n",
       "      <td>0.000000e+00</td>\n",
       "      <td>3.109559e-03</td>\n",
       "    </tr>\n",
       "    <tr>\n",
       "      <th>4</th>\n",
       "      <td>Berkshire Hathaway Inc.</td>\n",
       "      <td>1.208788e+10</td>\n",
       "      <td>0.0</td>\n",
       "      <td>0.0</td>\n",
       "      <td>0.000000e+00</td>\n",
       "      <td>0.0</td>\n",
       "      <td>0.013507</td>\n",
       "      <td>0.0</td>\n",
       "      <td>0.0</td>\n",
       "      <td>0.000000</td>\n",
       "      <td>0.000000e+00</td>\n",
       "      <td>2.701438e-03</td>\n",
       "    </tr>\n",
       "    <tr>\n",
       "      <th>...</th>\n",
       "      <td>...</td>\n",
       "      <td>...</td>\n",
       "      <td>...</td>\n",
       "      <td>...</td>\n",
       "      <td>...</td>\n",
       "      <td>...</td>\n",
       "      <td>...</td>\n",
       "      <td>...</td>\n",
       "      <td>...</td>\n",
       "      <td>...</td>\n",
       "      <td>...</td>\n",
       "      <td>...</td>\n",
       "    </tr>\n",
       "    <tr>\n",
       "      <th>4076</th>\n",
       "      <td>Nephros Inc.</td>\n",
       "      <td>0.000000e+00</td>\n",
       "      <td>0.0</td>\n",
       "      <td>0.0</td>\n",
       "      <td>0.000000e+00</td>\n",
       "      <td>995.0</td>\n",
       "      <td>0.000000</td>\n",
       "      <td>0.0</td>\n",
       "      <td>0.0</td>\n",
       "      <td>0.000000</td>\n",
       "      <td>1.338054e-08</td>\n",
       "      <td>2.676109e-09</td>\n",
       "    </tr>\n",
       "    <tr>\n",
       "      <th>4077</th>\n",
       "      <td>Priority Technology Holdings Inc.</td>\n",
       "      <td>0.000000e+00</td>\n",
       "      <td>0.0</td>\n",
       "      <td>0.0</td>\n",
       "      <td>0.000000e+00</td>\n",
       "      <td>260.0</td>\n",
       "      <td>0.000000</td>\n",
       "      <td>0.0</td>\n",
       "      <td>0.0</td>\n",
       "      <td>0.000000</td>\n",
       "      <td>3.496423e-09</td>\n",
       "      <td>6.992846e-10</td>\n",
       "    </tr>\n",
       "    <tr>\n",
       "      <th>4078</th>\n",
       "      <td>Cohen &amp; Co. Inc.</td>\n",
       "      <td>0.000000e+00</td>\n",
       "      <td>0.0</td>\n",
       "      <td>0.0</td>\n",
       "      <td>0.000000e+00</td>\n",
       "      <td>253.0</td>\n",
       "      <td>0.000000</td>\n",
       "      <td>0.0</td>\n",
       "      <td>0.0</td>\n",
       "      <td>0.000000</td>\n",
       "      <td>3.402289e-09</td>\n",
       "      <td>6.804577e-10</td>\n",
       "    </tr>\n",
       "    <tr>\n",
       "      <th>4079</th>\n",
       "      <td>InnSuites Hospitality Trust</td>\n",
       "      <td>0.000000e+00</td>\n",
       "      <td>0.0</td>\n",
       "      <td>0.0</td>\n",
       "      <td>0.000000e+00</td>\n",
       "      <td>165.0</td>\n",
       "      <td>0.000000</td>\n",
       "      <td>0.0</td>\n",
       "      <td>0.0</td>\n",
       "      <td>0.000000</td>\n",
       "      <td>2.218884e-09</td>\n",
       "      <td>4.437768e-10</td>\n",
       "    </tr>\n",
       "    <tr>\n",
       "      <th>4080</th>\n",
       "      <td>TheStreet CVR</td>\n",
       "      <td>0.000000e+00</td>\n",
       "      <td>0.0</td>\n",
       "      <td>0.0</td>\n",
       "      <td>0.000000e+00</td>\n",
       "      <td>1.0</td>\n",
       "      <td>0.000000</td>\n",
       "      <td>0.0</td>\n",
       "      <td>0.0</td>\n",
       "      <td>0.000000</td>\n",
       "      <td>1.344778e-11</td>\n",
       "      <td>2.689556e-12</td>\n",
       "    </tr>\n",
       "  </tbody>\n",
       "</table>\n",
       "<p>4081 rows × 12 columns</p>\n",
       "</div>"
      ],
      "text/plain": [
       "                                holding  vti_marketValue  vo_marketValue  \\\n",
       "0                       Microsoft Corp.     3.388885e+10             0.0   \n",
       "1                            Apple Inc.     3.307893e+10             0.0   \n",
       "2                       Amazon.com Inc.     2.193640e+10             0.0   \n",
       "3                         Facebook Inc.     1.391406e+10             0.0   \n",
       "4               Berkshire Hathaway Inc.     1.208788e+10             0.0   \n",
       "...                                 ...              ...             ...   \n",
       "4076                       Nephros Inc.     0.000000e+00             0.0   \n",
       "4077  Priority Technology Holdings Inc.     0.000000e+00             0.0   \n",
       "4078                   Cohen & Co. Inc.     0.000000e+00             0.0   \n",
       "4079        InnSuites Hospitality Trust     0.000000e+00             0.0   \n",
       "4080                      TheStreet CVR     0.000000e+00             0.0   \n",
       "\n",
       "      vb_marketValue  voo_marketValue  vxf_marketValue  vti_share  vo_share  \\\n",
       "0                0.0     2.403557e+10              0.0   0.037868       0.0   \n",
       "1                0.0     2.450349e+10              0.0   0.036963       0.0   \n",
       "2                0.0     1.537491e+10              0.0   0.024512       0.0   \n",
       "3                0.0     0.000000e+00              0.0   0.015548       0.0   \n",
       "4                0.0     0.000000e+00              0.0   0.013507       0.0   \n",
       "...              ...              ...              ...        ...       ...   \n",
       "4076             0.0     0.000000e+00            995.0   0.000000       0.0   \n",
       "4077             0.0     0.000000e+00            260.0   0.000000       0.0   \n",
       "4078             0.0     0.000000e+00            253.0   0.000000       0.0   \n",
       "4079             0.0     0.000000e+00            165.0   0.000000       0.0   \n",
       "4080             0.0     0.000000e+00              1.0   0.000000       0.0   \n",
       "\n",
       "      vb_share  voo_share     vxf_share   total_share  \n",
       "0          0.0   0.044962  0.000000e+00  1.656608e-02  \n",
       "1          0.0   0.045838  0.000000e+00  1.656014e-02  \n",
       "2          0.0   0.028761  0.000000e+00  1.065467e-02  \n",
       "3          0.0   0.000000  0.000000e+00  3.109559e-03  \n",
       "4          0.0   0.000000  0.000000e+00  2.701438e-03  \n",
       "...        ...        ...           ...           ...  \n",
       "4076       0.0   0.000000  1.338054e-08  2.676109e-09  \n",
       "4077       0.0   0.000000  3.496423e-09  6.992846e-10  \n",
       "4078       0.0   0.000000  3.402289e-09  6.804577e-10  \n",
       "4079       0.0   0.000000  2.218884e-09  4.437768e-10  \n",
       "4080       0.0   0.000000  1.344778e-11  2.689556e-12  \n",
       "\n",
       "[4081 rows x 12 columns]"
      ]
     },
     "execution_count": 49,
     "metadata": {},
     "output_type": "execute_result"
    }
   ],
   "source": [
    "# Create a new columns with the % of the total column value\n",
    "df['total_share'] = (df['vti_share'] + df['vo_share'] + df['vb_share'] + df['voo_share'] + df['vxf_share'])/5\n",
    "df"
   ]
  },
  {
   "cell_type": "code",
   "execution_count": 50,
   "metadata": {},
   "outputs": [],
   "source": [
    "# Create a data frame 'short_list' with just holding and tota_share. Sort it by total_share inplace. \n",
    "short_list=df.loc[:,['holding', 'total_share']]\n",
    "short_list.sort_values(by = 'total_share', ascending = False, inplace = True)"
   ]
  },
  {
   "cell_type": "code",
   "execution_count": 51,
   "metadata": {},
   "outputs": [
    {
     "data": {
      "text/plain": [
       "holding        Microsoft Corp.Apple Inc.Amazon.com Inc.JPMorg...\n",
       "total_share                                             0.179922\n",
       "dtype: object"
      ]
     },
     "execution_count": 51,
     "metadata": {},
     "output_type": "execute_result"
    }
   ],
   "source": [
    "short_list[0:50].sum()"
   ]
  },
  {
   "cell_type": "code",
   "execution_count": 52,
   "metadata": {},
   "outputs": [
    {
     "data": {
      "text/plain": [
       "holding        Accenture plc Class AONEOK Inc.Philip Morris I...\n",
       "total_share                                             0.433125\n",
       "dtype: object"
      ]
     },
     "execution_count": 52,
     "metadata": {},
     "output_type": "execute_result"
    }
   ],
   "source": [
    "short_list[51:500].sum()"
   ]
  },
  {
   "cell_type": "code",
   "execution_count": 53,
   "metadata": {
    "scrolled": false
   },
   "outputs": [
    {
     "data": {
      "text/plain": [
       "holding        United Parcel Service Inc. Class BWalgreens Bo...\n",
       "total_share                                             0.384489\n",
       "dtype: object"
      ]
     },
     "execution_count": 53,
     "metadata": {},
     "output_type": "execute_result"
    }
   ],
   "source": [
    "short_list[501:].sum()"
   ]
  },
  {
   "cell_type": "code",
   "execution_count": 54,
   "metadata": {
    "scrolled": true
   },
   "outputs": [
    {
     "data": {
      "text/html": [
       "<div>\n",
       "<style scoped>\n",
       "    .dataframe tbody tr th:only-of-type {\n",
       "        vertical-align: middle;\n",
       "    }\n",
       "\n",
       "    .dataframe tbody tr th {\n",
       "        vertical-align: top;\n",
       "    }\n",
       "\n",
       "    .dataframe thead th {\n",
       "        text-align: right;\n",
       "    }\n",
       "</style>\n",
       "<table border=\"1\" class=\"dataframe\">\n",
       "  <thead>\n",
       "    <tr style=\"text-align: right;\">\n",
       "      <th></th>\n",
       "      <th>Largecap</th>\n",
       "      <th>Midcap</th>\n",
       "      <th>Smallcap</th>\n",
       "    </tr>\n",
       "  </thead>\n",
       "  <tbody>\n",
       "    <tr>\n",
       "      <th>0</th>\n",
       "      <td>0.179922</td>\n",
       "      <td>0.433125</td>\n",
       "      <td>0.384489</td>\n",
       "    </tr>\n",
       "  </tbody>\n",
       "</table>\n",
       "</div>"
      ],
      "text/plain": [
       "   Largecap    Midcap  Smallcap\n",
       "0  0.179922  0.433125  0.384489"
      ]
     },
     "execution_count": 54,
     "metadata": {},
     "output_type": "execute_result"
    }
   ],
   "source": [
    "# Calculate the largecap, midcap, and smallcap sum\n",
    "largecap=short_list[0:50]['total_share'].sum()\n",
    "midcap=short_list[51:500]['total_share'].sum()\n",
    "smallcap=short_list[501:]['total_share'].sum()\n",
    "distribution=pd.DataFrame(columns=['Largecap', 'Midcap', 'Smallcap'], index = [0])\n",
    "distribution.iloc[0,:]=[largecap, midcap, smallcap]\n",
    "distribution"
   ]
  },
  {
   "cell_type": "markdown",
   "metadata": {},
   "source": [
    "#### Question 1 Plotting the result"
   ]
  },
  {
   "cell_type": "code",
   "execution_count": 55,
   "metadata": {},
   "outputs": [],
   "source": [
    "import seaborn as sns\n",
    "import matplotlib.pyplot as plt"
   ]
  },
  {
   "cell_type": "code",
   "execution_count": 56,
   "metadata": {},
   "outputs": [
    {
     "data": {
      "text/plain": [
       "Index(['Largecap', 'Midcap', 'Smallcap'], dtype='object')"
      ]
     },
     "execution_count": 56,
     "metadata": {},
     "output_type": "execute_result"
    }
   ],
   "source": [
    "distribution.columns"
   ]
  },
  {
   "cell_type": "code",
   "execution_count": 57,
   "metadata": {
    "scrolled": true
   },
   "outputs": [
    {
     "data": {
      "text/plain": [
       "array([0.17992194779817133, 0.4331249341696862, 0.3844893615603132],\n",
       "      dtype=object)"
      ]
     },
     "execution_count": 57,
     "metadata": {},
     "output_type": "execute_result"
    }
   ],
   "source": [
    "distribution.iloc[0,:].values"
   ]
  },
  {
   "cell_type": "markdown",
   "metadata": {},
   "source": [
    "https://medium.com/@kvnamipara/a-better-visualisation-of-pie-charts-by-matplotlib-935b7667d77f"
   ]
  },
  {
   "cell_type": "code",
   "execution_count": 58,
   "metadata": {},
   "outputs": [
    {
     "data": {
      "image/png": "[encoded data removed]",
      "text/plain": [
       "<Figure size 432x288 with 1 Axes>"
      ]
     },
     "metadata": {},
     "output_type": "display_data"
    }
   ],
   "source": [
    "fig1, ax1 = plt.subplots()\n",
    "ax1.pie(distribution.iloc[0,:].values, labels=distribution.columns, autopct='%1.1f%%',\n",
    "        shadow=True, startangle=90);"
   ]
  },
  {
   "cell_type": "code",
   "execution_count": 59,
   "metadata": {},
   "outputs": [
    {
     "data": {
      "text/plain": [
       "<matplotlib.axes._subplots.AxesSubplot at 0x1a18a6d590>"
      ]
     },
     "execution_count": 59,
     "metadata": {},
     "output_type": "execute_result"
    },
    {
     "data": {
      "image/png": "[encoded data removed]",
      "text/plain": [
       "<Figure size 432x288 with 1 Axes>"
      ]
     },
     "metadata": {
      "needs_background": "light"
     },
     "output_type": "display_data"
    }
   ],
   "source": [
    "sns.barplot(distribution.columns, distribution.iloc[0,:].values)"
   ]
  },
  {
   "cell_type": "markdown",
   "metadata": {},
   "source": [
    "#### Draw the first 50 Largecap, first 50 Midcap, and first 50 Smallcap in a graph."
   ]
  },
  {
   "cell_type": "code",
   "execution_count": 60,
   "metadata": {},
   "outputs": [
    {
     "name": "stdout",
     "output_type": "stream",
     "text": [
      "49 49 49\n"
     ]
    }
   ],
   "source": [
    "df_large=short_list[0:49].copy()\n",
    "df_mid=short_list[50:99].copy()\n",
    "df_small=short_list[500:549].copy()\n",
    "print(len(df_large), len(df_mid), len(df_small))"
   ]
  },
  {
   "cell_type": "code",
   "execution_count": 61,
   "metadata": {
    "scrolled": false
   },
   "outputs": [
    {
     "data": {
      "text/plain": [
       "680     0.000614\n",
       "3721    0.000613\n",
       "141     0.000612\n",
       "479     0.000609\n",
       "143     0.000609\n",
       "475     0.000609\n",
       "477     0.000608\n",
       "3594    0.000608\n",
       "478     0.000608\n",
       "502     0.000608\n",
       "676     0.000606\n",
       "670     0.000605\n",
       "672     0.000604\n",
       "481     0.000604\n",
       "671     0.000603\n",
       "675     0.000603\n",
       "144     0.000603\n",
       "145     0.000603\n",
       "483     0.000603\n",
       "485     0.000602\n",
       "487     0.000597\n",
       "689     0.000597\n",
       "678     0.000597\n",
       "686     0.000596\n",
       "684     0.000596\n",
       "509     0.000596\n",
       "668     0.000595\n",
       "515     0.000595\n",
       "682     0.000595\n",
       "679     0.000594\n",
       "3722    0.000593\n",
       "490     0.000593\n",
       "692     0.000592\n",
       "683     0.000592\n",
       "148     0.000588\n",
       "154     0.000588\n",
       "395     0.000587\n",
       "498     0.000586\n",
       "693     0.000585\n",
       "491     0.000585\n",
       "149     0.000584\n",
       "493     0.000584\n",
       "497     0.000583\n",
       "150     0.000583\n",
       "3573    0.000581\n",
       "147     0.000581\n",
       "503     0.000581\n",
       "690     0.000581\n",
       "153     0.000581\n",
       "Name: total_share, dtype: float64"
      ]
     },
     "execution_count": 61,
     "metadata": {},
     "output_type": "execute_result"
    }
   ],
   "source": [
    "df_small['total_share']"
   ]
  },
  {
   "cell_type": "code",
   "execution_count": 62,
   "metadata": {},
   "outputs": [
    {
     "data": {
      "text/plain": [
       "Text(0, 0.5, 'Company Count')"
      ]
     },
     "execution_count": 62,
     "metadata": {},
     "output_type": "execute_result"
    },
    {
     "data": {
      "image/png": "[encoded data removed]",
      "text/plain": [
       "<Figure size 432x288 with 1 Axes>"
      ]
     },
     "metadata": {
      "needs_background": "light"
     },
     "output_type": "display_data"
    }
   ],
   "source": [
    "sns.distplot(df_large['total_share'], color = 'red', hist = False)\n",
    "plt.title('Largecap - Share Distribution', fontsize=18)\n",
    "plt.xlabel('Share Size', fontsize=16)\n",
    "plt.ylabel('Company Count', fontsize=16)"
   ]
  },
  {
   "cell_type": "code",
   "execution_count": 63,
   "metadata": {},
   "outputs": [
    {
     "data": {
      "text/plain": [
       "Text(0, 0.5, 'Company Count')"
      ]
     },
     "execution_count": 63,
     "metadata": {},
     "output_type": "execute_result"
    },
    {
     "data": {
      "image/png": "[encoded data removed]",
      "text/plain": [
       "<Figure size 432x288 with 1 Axes>"
      ]
     },
     "metadata": {
      "needs_background": "light"
     },
     "output_type": "display_data"
    }
   ],
   "source": [
    "sns.distplot(df_mid['total_share'], color = 'yellow', hist = False)\n",
    "plt.title('Midcap - Share Distribution', fontsize=18)\n",
    "plt.xlabel('Share Size', fontsize=16)\n",
    "plt.ylabel('Company Count', fontsize=16)"
   ]
  },
  {
   "cell_type": "code",
   "execution_count": 64,
   "metadata": {},
   "outputs": [
    {
     "data": {
      "text/plain": [
       "Text(0, 0.5, 'Company Count')"
      ]
     },
     "execution_count": 64,
     "metadata": {},
     "output_type": "execute_result"
    },
    {
     "data": {
      "image/png": "[encoded data removed]",
      "text/plain": [
       "<Figure size 432x288 with 1 Axes>"
      ]
     },
     "metadata": {
      "needs_background": "light"
     },
     "output_type": "display_data"
    }
   ],
   "source": [
    "sns.distplot(df_small['total_share'], color = 'green', hist = False)\n",
    "plt.title('Share Distribution', fontsize=18)\n",
    "plt.xlabel('Share Size', fontsize=16)\n",
    "plt.ylabel('Company Count', fontsize=16)"
   ]
  },
  {
   "cell_type": "markdown",
   "metadata": {},
   "source": [
    "Comment: What are the numbers on the Y-axis? That can not be Company Count or Index. "
   ]
  },
  {
   "cell_type": "markdown",
   "metadata": {},
   "source": [
    "### Question 2"
   ]
  },
  {
   "cell_type": "markdown",
   "metadata": {},
   "source": [
    "Try some other proportions out in how you will divvy up your portfolio to get broader exposure to more mid and small size companies. Provide your best allocation and state the reasons why. This is a more open-ended question so be as creative as possible."
   ]
  },
  {
   "cell_type": "markdown",
   "metadata": {},
   "source": [
    "Assumption: \n",
    "   - The first 50 companies in the total etf mix are largecap companies\n",
    "   - The next 450 (51-500) companies in the total etf mix are midcap companies\n",
    "   - The remaining (501-eof) companides in the total etf mix are smallcap companies. "
   ]
  },
  {
   "cell_type": "markdown",
   "metadata": {},
   "source": [
    "Task:\n",
    "    - Find a mix where the largecap, midcap, and smallcap have an equal share of 1/3"
   ]
  },
  {
   "cell_type": "markdown",
   "metadata": {},
   "source": [
    "Approach:\n",
    "    - start simple: use multiples of 10% for each etf\n",
    "    - create all etf permutations: 0, 0, 0, 0, 100 - 0, 0, 0, 10, 90, - 0, 0, 0, 20, 80 - .. \n",
    "    - "
   ]
  },
  {
   "cell_type": "code",
   "execution_count": 65,
   "metadata": {},
   "outputs": [
    {
     "name": "stdout",
     "output_type": "stream",
     "text": [
      "1001\n"
     ]
    }
   ],
   "source": [
    "limit=10\n",
    "count=1\n",
    "for i in range(limit+1):\n",
    "    for j in range(limit+1):\n",
    "        for k in range(limit+1):\n",
    "            for l in range(limit+1):\n",
    "                for m in range(limit+1):\n",
    "                    if (i+j+k+l+m != limit):\n",
    "                        continue\n",
    "                    else:\n",
    "                        #print(count, 'vti: ', i, 'j: ', j, 'k: ', k, 'l: ', l, 'm: ', m)\n",
    "                        count+=1\n",
    "print(count-1)  \n",
    "\n",
    "# count - permutation includes records:\n",
    "# 1 - 5 \n",
    "# 2 - 15   ->  \n",
    "# 3 - 35   -> \n",
    "# 4 - 70\n",
    "# 5 - 126 \n",
    "# 6 - 210\n",
    "# 10 - 1001\n",
    "#\n",
    "# A pentatope number is a number in the fifth cell of any row of Pascal's triangle \n",
    "# starting with the 5-term row 1 4 6 4 1 either from left to right or from right to left. \n",
    "# The first few numbers of this kind are: 1, 5, 15, 35, 70, 126, 210, 330, 495, 715, 1001, 1365 \n",
    "# (sequence A000332 in the OEIS)\n",
    "# https://en.wikipedia.org/wiki/Pentatope_number#:~:text=A%20pentatope%20number%20is%20a,sequence%20A000332%20in%20the%20OEIS)\n",
    "    "
   ]
  },
  {
   "cell_type": "code",
   "execution_count": 66,
   "metadata": {},
   "outputs": [],
   "source": [
    "def pentalope(limit):\n",
    "    count=1\n",
    "    for i in range(limit+1):\n",
    "        for j in range(limit+1):\n",
    "            for k in range(limit+1):\n",
    "                for l in range(limit+1):\n",
    "                    for m in range(limit+1):\n",
    "                        if (i+j+k+l+m != limit):\n",
    "                            continue\n",
    "                        else:\n",
    "                            #print(count, 'vti: ', i, 'j: ', j, 'k: ', k, 'l: ', l, 'm: ', m)\n",
    "                            count+=1\n",
    "    return(count-1)"
   ]
  },
  {
   "cell_type": "code",
   "execution_count": 67,
   "metadata": {},
   "outputs": [
    {
     "name": "stdout",
     "output_type": "stream",
     "text": [
      "1001\n"
     ]
    }
   ],
   "source": [
    "print(pentalope(10))"
   ]
  },
  {
   "cell_type": "code",
   "execution_count": 68,
   "metadata": {},
   "outputs": [
    {
     "name": "stdout",
     "output_type": "stream",
     "text": [
      "1001\n"
     ]
    },
    {
     "data": {
      "text/html": [
       "<div>\n",
       "<style scoped>\n",
       "    .dataframe tbody tr th:only-of-type {\n",
       "        vertical-align: middle;\n",
       "    }\n",
       "\n",
       "    .dataframe tbody tr th {\n",
       "        vertical-align: top;\n",
       "    }\n",
       "\n",
       "    .dataframe thead th {\n",
       "        text-align: right;\n",
       "    }\n",
       "</style>\n",
       "<table border=\"1\" class=\"dataframe\">\n",
       "  <thead>\n",
       "    <tr style=\"text-align: right;\">\n",
       "      <th></th>\n",
       "      <th>Largecap</th>\n",
       "      <th>Midcap</th>\n",
       "      <th>Smallcap</th>\n",
       "      <th>vti_factor</th>\n",
       "      <th>vo_factor</th>\n",
       "      <th>vb_factor</th>\n",
       "      <th>voo_factor</th>\n",
       "      <th>vxf_factor</th>\n",
       "    </tr>\n",
       "  </thead>\n",
       "  <tbody>\n",
       "    <tr>\n",
       "      <th>0</th>\n",
       "      <td>0.156787</td>\n",
       "      <td>0.47922</td>\n",
       "      <td>0.361297</td>\n",
       "      <td>0</td>\n",
       "      <td>0</td>\n",
       "      <td>0</td>\n",
       "      <td>0</td>\n",
       "      <td>10</td>\n",
       "    </tr>\n",
       "    <tr>\n",
       "      <th>1</th>\n",
       "      <td>0.147385</td>\n",
       "      <td>0.448163</td>\n",
       "      <td>0.401945</td>\n",
       "      <td>0</td>\n",
       "      <td>0</td>\n",
       "      <td>0</td>\n",
       "      <td>1</td>\n",
       "      <td>9</td>\n",
       "    </tr>\n",
       "    <tr>\n",
       "      <th>2</th>\n",
       "      <td>0.1548</td>\n",
       "      <td>0.433759</td>\n",
       "      <td>0.408915</td>\n",
       "      <td>0</td>\n",
       "      <td>0</td>\n",
       "      <td>0</td>\n",
       "      <td>2</td>\n",
       "      <td>8</td>\n",
       "    </tr>\n",
       "    <tr>\n",
       "      <th>3</th>\n",
       "      <td>0.181069</td>\n",
       "      <td>0.417371</td>\n",
       "      <td>0.399061</td>\n",
       "      <td>0</td>\n",
       "      <td>0</td>\n",
       "      <td>0</td>\n",
       "      <td>3</td>\n",
       "      <td>7</td>\n",
       "    </tr>\n",
       "    <tr>\n",
       "      <th>4</th>\n",
       "      <td>0.216148</td>\n",
       "      <td>0.405898</td>\n",
       "      <td>0.375315</td>\n",
       "      <td>0</td>\n",
       "      <td>0</td>\n",
       "      <td>0</td>\n",
       "      <td>4</td>\n",
       "      <td>6</td>\n",
       "    </tr>\n",
       "    <tr>\n",
       "      <th>...</th>\n",
       "      <td>...</td>\n",
       "      <td>...</td>\n",
       "      <td>...</td>\n",
       "      <td>...</td>\n",
       "      <td>...</td>\n",
       "      <td>...</td>\n",
       "      <td>...</td>\n",
       "      <td>...</td>\n",
       "    </tr>\n",
       "    <tr>\n",
       "      <th>996</th>\n",
       "      <td>0.383798</td>\n",
       "      <td>0.401965</td>\n",
       "      <td>0.210475</td>\n",
       "      <td>9</td>\n",
       "      <td>0</td>\n",
       "      <td>0</td>\n",
       "      <td>0</td>\n",
       "      <td>1</td>\n",
       "    </tr>\n",
       "    <tr>\n",
       "      <th>997</th>\n",
       "      <td>0.426636</td>\n",
       "      <td>0.430325</td>\n",
       "      <td>0.13889</td>\n",
       "      <td>9</td>\n",
       "      <td>0</td>\n",
       "      <td>0</td>\n",
       "      <td>1</td>\n",
       "      <td>0</td>\n",
       "    </tr>\n",
       "    <tr>\n",
       "      <th>998</th>\n",
       "      <td>0.383798</td>\n",
       "      <td>0.394769</td>\n",
       "      <td>0.217669</td>\n",
       "      <td>9</td>\n",
       "      <td>0</td>\n",
       "      <td>1</td>\n",
       "      <td>0</td>\n",
       "      <td>0</td>\n",
       "    </tr>\n",
       "    <tr>\n",
       "      <th>999</th>\n",
       "      <td>0.383798</td>\n",
       "      <td>0.464774</td>\n",
       "      <td>0.147616</td>\n",
       "      <td>9</td>\n",
       "      <td>1</td>\n",
       "      <td>0</td>\n",
       "      <td>0</td>\n",
       "      <td>0</td>\n",
       "    </tr>\n",
       "    <tr>\n",
       "      <th>1000</th>\n",
       "      <td>0.426442</td>\n",
       "      <td>0.4224</td>\n",
       "      <td>0.147076</td>\n",
       "      <td>10</td>\n",
       "      <td>0</td>\n",
       "      <td>0</td>\n",
       "      <td>0</td>\n",
       "      <td>0</td>\n",
       "    </tr>\n",
       "  </tbody>\n",
       "</table>\n",
       "<p>1001 rows × 8 columns</p>\n",
       "</div>"
      ],
      "text/plain": [
       "      Largecap    Midcap  Smallcap vti_factor vo_factor vb_factor voo_factor  \\\n",
       "0     0.156787   0.47922  0.361297          0         0         0          0   \n",
       "1     0.147385  0.448163  0.401945          0         0         0          1   \n",
       "2       0.1548  0.433759  0.408915          0         0         0          2   \n",
       "3     0.181069  0.417371  0.399061          0         0         0          3   \n",
       "4     0.216148  0.405898  0.375315          0         0         0          4   \n",
       "...        ...       ...       ...        ...       ...       ...        ...   \n",
       "996   0.383798  0.401965  0.210475          9         0         0          0   \n",
       "997   0.426636  0.430325   0.13889          9         0         0          1   \n",
       "998   0.383798  0.394769  0.217669          9         0         1          0   \n",
       "999   0.383798  0.464774  0.147616          9         1         0          0   \n",
       "1000  0.426442    0.4224  0.147076         10         0         0          0   \n",
       "\n",
       "     vxf_factor  \n",
       "0            10  \n",
       "1             9  \n",
       "2             8  \n",
       "3             7  \n",
       "4             6  \n",
       "...         ...  \n",
       "996           1  \n",
       "997           0  \n",
       "998           0  \n",
       "999           0  \n",
       "1000          0  \n",
       "\n",
       "[1001 rows x 8 columns]"
      ]
     },
     "execution_count": 68,
     "metadata": {},
     "output_type": "execute_result"
    }
   ],
   "source": [
    "limit=10\n",
    "cnt=0\n",
    "for i in range(limit+1):\n",
    "    for j in range(limit+1):\n",
    "        for k in range(limit+1):\n",
    "            for l in range(limit+1):\n",
    "                for m in range(limit+1):\n",
    "                    if (i+j+k+l+m != limit):\n",
    "                        continue\n",
    "                    else:\n",
    "                        #print(cnt, 'i: ', i, 'j: ', j, 'k: ', k, 'l: ', l, 'm: ', m)\n",
    "                        \n",
    "                        # 1 create a copy of vti\n",
    "                        df=vti.copy() \n",
    "                        df.rename(columns={\"marketValue\": \"vti_marketValue\"}, inplace = True)\n",
    "                        df[\"vti_marketValue\"]=i*df[\"vti_marketValue\"]\n",
    "                        \n",
    "                        # 2 Merge vti with vo\n",
    "                        df=df.merge(vo, how='outer')\n",
    "                        df.rename(columns={\"marketValue\": \"vo_marketValue\"}, inplace = True)\n",
    "                        df[\"vo_marketValue\"]=j*df[\"vo_marketValue\"]\n",
    "                        \n",
    "                        # 3 Merge vti, vo with vb\n",
    "                        df=df.merge(vb, how='outer')\n",
    "                        df.rename(columns={\"marketValue\": \"vb_marketValue\"}, inplace = True)\n",
    "                        df[\"vb_marketValue\"]=k*df[\"vb_marketValue\"]\n",
    "                        \n",
    "                        # 4 Merge vti, vo, vb with voo\n",
    "                        df=df.merge(voo, how='outer')\n",
    "                        df.rename(columns={\"marketValue\": \"voo_marketValue\"}, inplace = True)\n",
    "                        df[\"voo_marketValue\"]=l*df[\"voo_marketValue\"]\n",
    "                        \n",
    "                        # 5 Merge vti, vo, vb, voo with vxf\n",
    "                        df=df.merge(vxf, how='outer')\n",
    "                        df.rename(columns={\"marketValue\": \"vxf_marketValue\"}, inplace = True)\n",
    "                        df[\"vxf_marketValue\"]=m*df[\"vxf_marketValue\"]\n",
    "                        \n",
    "                        # Replace NaN with 0.0\n",
    "                        df['vti_marketValue']=df['vti_marketValue'].fillna(0.0)\n",
    "                        df['vo_marketValue']=df['vo_marketValue'].fillna(0.0)\n",
    "                        df['vb_marketValue']=df['vb_marketValue'].fillna(0.0)\n",
    "                        df['voo_marketValue']=df['voo_marketValue'].fillna(0.0)\n",
    "                        df['vxf_marketValue']=df['vxf_marketValue'].fillna(0.0)\n",
    "                        \n",
    "                        # Create marketValue column sum \n",
    "                        vti_sum=df['vti_marketValue'].sum(axis=0)\n",
    "                        vo_sum= df['vo_marketValue' ].sum(axis=0)\n",
    "                        vb_sum= df['vb_marketValue' ].sum(axis=0)\n",
    "                        voo_sum=df['voo_marketValue'].sum(axis=0)\n",
    "                        vxf_sum=df['vxf_marketValue'].sum(axis=0)\n",
    "                        \n",
    "                        # Create a new columns with the % of the total column value\n",
    "                        df['vti_share']=df['vti_marketValue']/vti_sum\n",
    "                        df['vo_share'] =df['vo_marketValue']/vo_sum\n",
    "                        df['vb_share'] =df['vb_marketValue']/vb_sum\n",
    "                        df['voo_share']=df['voo_marketValue']/voo_sum\n",
    "                        df['vxf_share']=df['vxf_marketValue']/vxf_sum\n",
    "                        \n",
    "                        # The column sum might be 0 and creating a NaN in the *_marketValue column. Set it to 0\n",
    "                        df['vti_share']=df['vti_share'].fillna(0.0)\n",
    "                        df['vo_share']=df['vo_share'].fillna(0.0)\n",
    "                        df['vb_share']=df['vb_share'].fillna(0.0)\n",
    "                        df['voo_share']=df['voo_share'].fillna(0.0)\n",
    "                        df['vxf_share']=df['vxf_share'].fillna(0.0)\n",
    "                        \n",
    "                        # Create a new columns with the % of the total column value\n",
    "                        df['total_share'] = (i*df['vti_share'] + j*df['vo_share'] + k*df['vb_share'] + l*df['voo_share'] + m*df['vxf_share'])/limit\n",
    "                        \n",
    "                        # Create a data frame 'short_list' with just holding and tota_share. Sort it by total_share inplace. \n",
    "                        short_list=df.loc[:,['holding', 'total_share']]\n",
    "                        short_list.sort_values(by = 'total_share', ascending = False, inplace = True)\n",
    "                        \n",
    "                        # Calculate the largecap, midcap, and smallcap sum\n",
    "                        largecap=short_list[0:50]['total_share'].sum()\n",
    "                        midcap=short_list[51:500]['total_share'].sum()\n",
    "                        smallcap=short_list[501:]['total_share'].sum()\n",
    "                        #print(largecap, midcap, smallcap, i, j, k, l, m)\n",
    "                        if(cnt==0):\n",
    "                            distribution=pd.DataFrame(columns=['Largecap', 'Midcap', 'Smallcap', 'vti_factor', 'vo_factor', 'vb_factor', 'voo_factor', 'vxf_factor'], index = range(pentalope(limit)))\n",
    "                        distribution.iloc[cnt,:]=[largecap, midcap, smallcap, i, j, k, l, m]\n",
    "                        #distribution.iloc[0,:]=[largecap, midcap, smallcap]\n",
    "                        \n",
    "                        cnt+=1\n",
    "                        \n",
    "#df\n",
    "#short_list\n",
    "print(pentalope(limit))\n",
    "# although pentalope(10)=1001 and distribution=pd.Dataframe should create only 1001 lines, it creates 4081\n",
    "distribution.dropna(axis=0, inplace=True)\n",
    "distribution"
   ]
  },
  {
   "cell_type": "code",
   "execution_count": 69,
   "metadata": {},
   "outputs": [
    {
     "data": {
      "text/plain": [
       "0.039340203324143355"
      ]
     },
     "execution_count": 69,
     "metadata": {},
     "output_type": "execute_result"
    }
   ],
   "source": [
    "# find factor combination closest to 1/3 largecap, 1/3, midcap, 1/3 smallcapp\n",
    "# How: create another column with the standard deviation of Largecap, Midcap, Smallcap. \n",
    "# Where STD is the lowest, is the number closest to 3 x 1/3. \n",
    "\n",
    "distribution['std']=distribution[['Largecap', 'Midcap', 'Smallcap']].std(axis=1)\n",
    "distribution['std'].min()"
   ]
  },
  {
   "cell_type": "code",
   "execution_count": 70,
   "metadata": {},
   "outputs": [
    {
     "data": {
      "text/html": [
       "<div>\n",
       "<style scoped>\n",
       "    .dataframe tbody tr th:only-of-type {\n",
       "        vertical-align: middle;\n",
       "    }\n",
       "\n",
       "    .dataframe tbody tr th {\n",
       "        vertical-align: top;\n",
       "    }\n",
       "\n",
       "    .dataframe thead th {\n",
       "        text-align: right;\n",
       "    }\n",
       "</style>\n",
       "<table border=\"1\" class=\"dataframe\">\n",
       "  <thead>\n",
       "    <tr style=\"text-align: right;\">\n",
       "      <th></th>\n",
       "      <th>Largecap</th>\n",
       "      <th>Midcap</th>\n",
       "      <th>Smallcap</th>\n",
       "      <th>vti_factor</th>\n",
       "      <th>vo_factor</th>\n",
       "      <th>vb_factor</th>\n",
       "      <th>voo_factor</th>\n",
       "      <th>vxf_factor</th>\n",
       "      <th>std</th>\n",
       "    </tr>\n",
       "  </thead>\n",
       "  <tbody>\n",
       "    <tr>\n",
       "      <th>973</th>\n",
       "      <td>0.298509</td>\n",
       "      <td>0.375486</td>\n",
       "      <td>0.322893</td>\n",
       "      <td>7</td>\n",
       "      <td>0</td>\n",
       "      <td>2</td>\n",
       "      <td>0</td>\n",
       "      <td>1</td>\n",
       "      <td>0.03934</td>\n",
       "    </tr>\n",
       "  </tbody>\n",
       "</table>\n",
       "</div>"
      ],
      "text/plain": [
       "     Largecap    Midcap  Smallcap vti_factor vo_factor vb_factor voo_factor  \\\n",
       "973  0.298509  0.375486  0.322893          7         0         2          0   \n",
       "\n",
       "    vxf_factor      std  \n",
       "973          1  0.03934  "
      ]
     },
     "execution_count": 70,
     "metadata": {},
     "output_type": "execute_result"
    }
   ],
   "source": [
    "distribution.loc[distribution['std'] == distribution['std'].min()]\n",
    "#10: 973\t0.298509\t0.375486\t0.322893\t7\t0\t2\t0\t1\t0.03934"
   ]
  },
  {
   "cell_type": "code",
   "execution_count": 71,
   "metadata": {},
   "outputs": [
    {
     "data": {
      "text/plain": [
       "Index(['Largecap', 'Midcap', 'Smallcap'], dtype='object')"
      ]
     },
     "execution_count": 71,
     "metadata": {},
     "output_type": "execute_result"
    }
   ],
   "source": [
    "distribution.columns[0:3]"
   ]
  },
  {
   "cell_type": "code",
   "execution_count": 72,
   "metadata": {},
   "outputs": [
    {
     "data": {
      "image/png": "[encoded data removed]",
      "text/plain": [
       "<Figure size 432x288 with 1 Axes>"
      ]
     },
     "metadata": {},
     "output_type": "display_data"
    }
   ],
   "source": [
    "fig1, ax1 = plt.subplots()\n",
    "ax1.pie(distribution.iloc[973,0:3].values, labels=distribution.columns[0:3], autopct='%1.1f%%',\n",
    "        shadow=True, startangle=90);"
   ]
  },
  {
   "cell_type": "code",
   "execution_count": 73,
   "metadata": {},
   "outputs": [
    {
     "data": {
      "text/plain": [
       "<matplotlib.axes._subplots.AxesSubplot at 0x1a190c8890>"
      ]
     },
     "execution_count": 73,
     "metadata": {},
     "output_type": "execute_result"
    },
    {
     "data": {
      "image/png": "[encoded data removed]",
      "text/plain": [
       "<Figure size 432x288 with 1 Axes>"
      ]
     },
     "metadata": {
      "needs_background": "light"
     },
     "output_type": "display_data"
    }
   ],
   "source": [
    "sns.barplot(distribution.columns[0:3], distribution.iloc[973,0:3].values)"
   ]
  }
 ],
 "metadata": {
  "kernelspec": {
   "display_name": "Python 3",
   "language": "python",
   "name": "python3"
  },
  "language_info": {
   "codemirror_mode": {
    "name": "ipython",
    "version": 3
   },
   "file_extension": ".py",
   "mimetype": "text/x-python",
   "name": "python",
   "nbconvert_exporter": "python",
   "pygments_lexer": "ipython3",
   "version": "3.7.6"
  }
 },
 "nbformat": 4,
 "nbformat_minor": 1
}
